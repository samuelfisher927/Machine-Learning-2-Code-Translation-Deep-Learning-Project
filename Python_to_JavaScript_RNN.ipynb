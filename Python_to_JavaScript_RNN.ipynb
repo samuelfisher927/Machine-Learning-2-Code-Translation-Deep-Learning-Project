{
 "nbformat": 4,
 "nbformat_minor": 0,
 "metadata": {
  "colab": {
   "provenance": [],
   "gpuType": "A100"
  },
  "kernelspec": {
   "name": "python3",
   "display_name": "Python 3"
  },
  "language_info": {
   "name": "python"
  },
  "accelerator": "GPU"
 },
 "cells": [
  {
   "cell_type": "code",
   "metadata": {
    "id": "9_8xGjmExCvW",
    "ExecuteTime": {
     "end_time": "2025-05-27T00:51:41.836444Z",
     "start_time": "2025-05-27T00:51:39.000380Z"
    }
   },
   "source": [
    "import torch\n",
    "import torch.nn as nn\n",
    "import torch.optim as optim\n",
    "from torch.utils.data import Dataset, DataLoader\n",
    "from torch.nn.utils.rnn import pack_padded_sequence, pad_packed_sequence\n",
    "from nltk.translate.bleu_score import sentence_bleu, SmoothingFunction\n",
    "from tqdm import tqdm\n",
    "from torch.cuda.amp import autocast, GradScaler\n",
    "import os"
   ],
   "outputs": [],
   "execution_count": 1
  },
  {
   "cell_type": "markdown",
   "source": [
    "## Tokenizer"
   ],
   "metadata": {
    "id": "WBJHWhcpyNBn"
   }
  },
  {
   "cell_type": "code",
   "source": [
    "class SimpleTokenizer:\n",
    "    def __init__(self, texts, special_tokens=[\"<pad>\", \"<sos>\", \"<eos>\", \"<unk>\", \"NEW_LINE\", \"INDENT\", \"DEDENT\"]):\n",
    "        words = set()\n",
    "        for line in texts:\n",
    "            words.update(line.strip().split())\n",
    "        self.word2idx = {t\n",
    "\n",
    "        ok: idx for idx, tok in enumerate(special_tokens)}\n",
    "        for word in sorted(words):\n",
    "            if word not in self.word2idx:\n",
    "                self.word2idx[word] = len(self.word2idx)\n",
    "        self.idx2word = {idx: tok for tok, idx in self.word2idx.items()}\n",
    "        self.pad_token_id = self.word2idx[\"<pad>\"]\n",
    "        self.sos_token_id = self.word2idx[\"<sos>\"]\n",
    "        self.eos_token_id = self.word2idx[\"<eos>\"]\n",
    "        self.unk_token_id = self.word2idx[\"<unk>\"]\n",
    "\n",
    "    def encode(self, text, max_len=256):\n",
    "        tokens = [\"<sos>\"] + text.strip().split() + [\"<eos>\"]\n",
    "        token_ids = [self.word2idx.get(tok, self.unk_token_id) for tok in tokens]\n",
    "        token_ids = token_ids[:max_len]\n",
    "        return token_ids + [self.pad_token_id] * (max_len - len(token_ids))\n",
    "\n",
    "    def decode(self, ids):\n",
    "        words = [self.idx2word.get(i, \"<unk>\") for i in ids if i not in (self.pad_token_id, self.eos_token_id, self.sos_token_id)]\n",
    "        return \" \".join(words).strip()"
   ],
   "metadata": {
    "id": "fe_zaWB-xD_9",
    "ExecuteTime": {
     "end_time": "2025-05-27T00:51:42.080139Z",
     "start_time": "2025-05-27T00:51:42.076526Z"
    }
   },
   "outputs": [],
   "execution_count": 2
  },
  {
   "cell_type": "markdown",
   "source": [
    "## Dataset"
   ],
   "metadata": {
    "id": "qZW2nww1ydOB"
   }
  },
  {
   "cell_type": "code",
   "source": [
    "class CodeTranslationDataset(Dataset):\n",
    "    def __init__(self, pairs, tokenizer, max_len=256):\n",
    "        self.pairs = pairs\n",
    "        self.tokenizer = tokenizer\n",
    "        self.max_len = max_len\n",
    "\n",
    "    def __len__(self):\n",
    "        return len(self.pairs)\n",
    "\n",
    "    def __getitem__(self, idx):\n",
    "        src, tgt = self.pairs[idx]\n",
    "        src_ids = self.tokenizer.encode(src, self.max_len)\n",
    "        tgt_ids = self.tokenizer.encode(tgt, self.max_len)\n",
    "        labels = [i if i != self.tokenizer.pad_token_id else -100 for i in tgt_ids]\n",
    "        return {\n",
    "            \"input_ids\": torch.tensor(src_ids),\n",
    "            \"labels\": torch.tensor(labels),\n",
    "            \"lengths\": (torch.tensor(src_ids) != self.tokenizer.pad_token_id).sum()\n",
    "        }\n"
   ],
   "metadata": {
    "id": "cgCtc5iwxHdE",
    "ExecuteTime": {
     "end_time": "2025-05-27T00:51:42.138542Z",
     "start_time": "2025-05-27T00:51:42.135277Z"
    }
   },
   "outputs": [],
   "execution_count": 3
  },
  {
   "cell_type": "markdown",
   "source": [
    "## Attention Model"
   ],
   "metadata": {
    "id": "riKV3tQ2yhV9"
   }
  },
  {
   "cell_type": "code",
   "source": [
    "class Attention(nn.Module):\n",
    "    def __init__(self, hid_dim):\n",
    "        super().__init__()\n",
    "        self.attn = nn.Linear(hid_dim * 2, hid_dim)\n",
    "        self.v = nn.Parameter(torch.rand(hid_dim))\n",
    "\n",
    "    def forward(self, hidden, encoder_outputs):\n",
    "        src_len = encoder_outputs.shape[1]\n",
    "        hidden = hidden.unsqueeze(1).repeat(1, src_len, 1)\n",
    "        energy = torch.tanh(self.attn(torch.cat((hidden, encoder_outputs), dim=2)))\n",
    "        energy = energy.transpose(1, 2)\n",
    "        v = self.v.repeat(hidden.size(0), 1).unsqueeze(1)\n",
    "        attn_weights = torch.bmm(v, energy).squeeze(1)\n",
    "        return torch.softmax(attn_weights, dim=1)\n",
    "\n",
    "class AttnSeq2Seq(nn.Module):\n",
    "    def __init__(self, vocab_size, emb_dim, hid_dim, pad_idx):\n",
    "        super().__init__()\n",
    "        self.embedding = nn.Embedding(vocab_size, emb_dim, padding_idx=pad_idx)\n",
    "        self.encoder = nn.GRU(emb_dim, hid_dim, batch_first=True)\n",
    "        self.decoder = nn.GRU(emb_dim + hid_dim, hid_dim, batch_first=True)\n",
    "        self.attn = Attention(hid_dim)\n",
    "        self.fc_out = nn.Linear(hid_dim * 2, vocab_size)\n",
    "        self.pad_idx = pad_idx\n",
    "\n",
    "    def forward(self, src, trg, lengths):\n",
    "        embedded_src = self.embedding(src)\n",
    "        packed = pack_padded_sequence(embedded_src, lengths.cpu(), batch_first=True, enforce_sorted=False)\n",
    "        encoder_outputs, hidden = self.encoder(packed)\n",
    "        encoder_outputs, _ = pad_packed_sequence(encoder_outputs, batch_first=True)\n",
    "\n",
    "        decoder_input = trg.clone()\n",
    "        decoder_input[decoder_input == -100] = self.pad_idx\n",
    "        embedded_trg = self.embedding(decoder_input[:, :-1])\n",
    "        outputs = []\n",
    "        input_step = embedded_trg[:, 0].unsqueeze(1)\n",
    "\n",
    "        for t in range(embedded_trg.size(1)):\n",
    "            a = self.attn(hidden[-1], encoder_outputs).unsqueeze(1)\n",
    "            weighted = torch.bmm(a, encoder_outputs)\n",
    "            rnn_input = torch.cat((input_step, weighted), dim=2)\n",
    "            output, hidden = self.decoder(rnn_input, hidden)\n",
    "            prediction = self.fc_out(torch.cat((output, weighted), dim=2)).squeeze(1)\n",
    "            outputs.append(prediction)\n",
    "            if t + 1 < embedded_trg.size(1):\n",
    "                input_step = embedded_trg[:, t + 1].unsqueeze(1)\n",
    "        return torch.stack(outputs, dim=1)"
   ],
   "metadata": {
    "id": "UYKNz8YDxKWe",
    "ExecuteTime": {
     "end_time": "2025-05-27T00:51:42.194740Z",
     "start_time": "2025-05-27T00:51:42.190300Z"
    }
   },
   "outputs": [],
   "execution_count": 4
  },
  {
   "cell_type": "markdown",
   "source": [
    "## Training"
   ],
   "metadata": {
    "id": "dFoSujRZyk2K"
   }
  },
  {
   "cell_type": "code",
   "source": [
    "def train(model, dataloader, optimizer, criterion, device, scaler):\n",
    "    model.train()\n",
    "    epoch_loss = 0\n",
    "    for batch in tqdm(dataloader, desc=\"Training\"):\n",
    "        src = batch[\"input_ids\"].to(device)\n",
    "        trg = batch[\"labels\"].to(device)\n",
    "        lengths = batch[\"lengths\"].to(device)\n",
    "        optimizer.zero_grad()\n",
    "        with autocast():\n",
    "            output = model(src, trg, lengths)\n",
    "            output = output.reshape(-1, output.shape[-1])\n",
    "            trg = trg[:, 1:].reshape(-1)\n",
    "            loss = criterion(output, trg)\n",
    "        scaler.scale(loss).backward()\n",
    "        scaler.step(optimizer)\n",
    "        scaler.update()\n",
    "        epoch_loss += loss.item()\n",
    "    return epoch_loss / len(dataloader)\n"
   ],
   "metadata": {
    "id": "JEXazyeYxNeY",
    "ExecuteTime": {
     "end_time": "2025-05-27T00:51:42.247414Z",
     "start_time": "2025-05-27T00:51:42.244343Z"
    }
   },
   "outputs": [],
   "execution_count": 5
  },
  {
   "cell_type": "markdown",
   "source": [
    "## Evalution"
   ],
   "metadata": {
    "id": "vNWmwsG0yqeG"
   }
  },
  {
   "cell_type": "code",
   "source": [
    "def evaluate_bleu(model, val_pairs, tokenizer, device, max_len=256, num_samples=5):\n",
    "    model.eval()\n",
    "    smoothie = SmoothingFunction().method4\n",
    "    total_bleu = 0\n",
    "    for i in range(min(num_samples, len(val_pairs))):\n",
    "        src_text, tgt_text = val_pairs[i]\n",
    "        src_ids = tokenizer.encode(src_text)\n",
    "        src_tensor = torch.tensor(src_ids).unsqueeze(0).to(device)\n",
    "        with torch.no_grad(), autocast():\n",
    "            lengths = (src_tensor != tokenizer.pad_token_id).sum(dim=1)\n",
    "            encoder_outputs, hidden = model.encoder(\n",
    "                pack_padded_sequence(model.embedding(src_tensor), lengths.cpu(), batch_first=True, enforce_sorted=False)\n",
    "            )\n",
    "            encoder_outputs, _ = pad_packed_sequence(encoder_outputs, batch_first=True)\n",
    "            token = torch.tensor([[tokenizer.sos_token_id]], device=device)\n",
    "            generated = []\n",
    "            for _ in range(max_len):\n",
    "                embedded = model.embedding(token)\n",
    "                a = model.attn(hidden[-1], encoder_outputs).unsqueeze(1)\n",
    "                weighted = torch.bmm(a, encoder_outputs)\n",
    "                rnn_input = torch.cat((embedded, weighted), dim=2)\n",
    "                output, hidden = model.decoder(rnn_input, hidden)\n",
    "                prediction = model.fc_out(torch.cat((output, weighted), dim=2)).squeeze(1)\n",
    "                token = prediction.argmax(dim=1, keepdim=True)\n",
    "                if token.item() == tokenizer.eos_token_id:\n",
    "                    break\n",
    "                generated.append(token.item())\n",
    "            pred_text = tokenizer.decode(generated)\n",
    "            bleu = sentence_bleu([tgt_text.split()], pred_text.split(), smoothing_function=smoothie)\n",
    "            print(f\"\\nBLEU: {bleu:.4f}\\nPred: {pred_text}\\nRef : {tgt_text}\")\n",
    "            total_bleu += bleu\n",
    "    return total_bleu / num_samples\n"
   ],
   "metadata": {
    "id": "JYBh3bD5xP8K",
    "ExecuteTime": {
     "end_time": "2025-05-27T00:51:42.294319Z",
     "start_time": "2025-05-27T00:51:42.290356Z"
    }
   },
   "outputs": [],
   "execution_count": 6
  },
  {
   "cell_type": "markdown",
   "source": [
    "## Helper Functions"
   ],
   "metadata": {
    "id": "4CgE3iQkyth9"
   }
  },
  {
   "cell_type": "code",
   "source": [
    "def save_model(model, path=\"best_model.pt\"):\n",
    "    print(\"Saving model...\")\n",
    "    torch.save(model.state_dict(), path)\n",
    "\n",
    "def load_model(model, path=\"best_model.pt\"):\n",
    "    model.load_state_dict(torch.load(path))\n",
    "    model.eval()\n",
    "\n",
    "class EarlyStopping:\n",
    "    def __init__(self, patience=3):\n",
    "        self.patience = patience\n",
    "        self.counter = 0\n",
    "        self.best = float('inf')\n",
    "        self.stop = False\n",
    "\n",
    "    def __call__(self, val_loss):\n",
    "        if val_loss < self.best:\n",
    "            self.best = val_loss\n",
    "            self.counter = 0\n",
    "        else:\n",
    "            self.counter += 1\n",
    "            if self.counter >= self.patience:\n",
    "                self.stop = True"
   ],
   "metadata": {
    "id": "akMHNDlpxSoa",
    "ExecuteTime": {
     "end_time": "2025-05-27T00:51:42.352975Z",
     "start_time": "2025-05-27T00:51:42.350194Z"
    }
   },
   "outputs": [],
   "execution_count": 7
  },
  {
   "cell_type": "markdown",
   "source": [
    "## Training Loop"
   ],
   "metadata": {
    "id": "aiIvlXZiyw7V"
   }
  },
  {
   "cell_type": "code",
   "source": [
    "if __name__ == \"__main__\":\n",
    "    DEVICE = torch.device(\"cuda\" if torch.cuda.is_available() else \"cpu\")\n",
    "    def load_pairs(py_file, js_file):\n",
    "        with open(py_file, encoding=\"utf-8\") as f1, open(js_file, encoding=\"utf-8\") as f2:\n",
    "            src_lines = [l.strip() for l in f1 if l.strip()]\n",
    "            tgt_lines = [l.strip() for l in f2 if l.strip()]\n",
    "        return list(zip(src_lines, tgt_lines))\n",
    "\n",
    "    train_pairs = load_pairs(\n",
    "        \"data/generation/pair_data_tok_full/Python-Javascript/train-Python-Javascript-tok.py\",\n",
    "        \"data/generation/pair_data_tok_full/Python-Javascript/train-Python-Javascript-tok.js\"\n",
    "    )\n",
    "    val_pairs = load_pairs(\n",
    "        \"data/generation/pair_data_tok_full/Python-Javascript/val-Python-Javascript-tok.py\",\n",
    "        \"data/generation/pair_data_tok_full/Python-Javascript/val-Python-Javascript-tok.js\"\n",
    "    )\n",
    "\n",
    "    all_texts = [src for src, _ in train_pairs + val_pairs] + [tgt for _, tgt in train_pairs + val_pairs]\n",
    "\n",
    "    tokenizer = SimpleTokenizer(all_texts)\n",
    "    VOCAB_SIZE = len(tokenizer.word2idx)\n",
    "\n",
    "    train_ds = CodeTranslationDataset(train_pairs, tokenizer)\n",
    "    val_ds   = CodeTranslationDataset(val_pairs, tokenizer)\n",
    "    train_loader = DataLoader(train_ds, batch_size=32, shuffle=True, num_workers=2, pin_memory=True)\n",
    "    val_loader   = DataLoader(val_ds, batch_size=32, num_workers=2)\n",
    "\n",
    "    model     = AttnSeq2Seq(VOCAB_SIZE, 256, 512, pad_idx=tokenizer.pad_token_id).to(DEVICE)\n",
    "    optimizer = optim.Adam(model.parameters(), lr=1e-3)\n",
    "    criterion = nn.CrossEntropyLoss(ignore_index=-100)\n",
    "    scaler    = GradScaler()\n",
    "    early_stopper = EarlyStopping(patience=4)\n",
    "\n",
    "    for epoch in range(10):\n",
    "        print(f\"\\nEpoch {epoch+1}\")\n",
    "        if epoch == 1:\n",
    "            model = torch.compile(model)\n",
    "        train_loss = train(model, train_loader, optimizer, criterion, DEVICE, scaler)\n",
    "        bleu = evaluate_bleu(model, val_pairs, tokenizer, DEVICE)\n",
    "        print(f\"Train Loss: {train_loss:.4f} | BLEU: {bleu:.4f}\")\n",
    "        if bleu > 0.5:\n",
    "            save_model(model)\n",
    "        early_stopper(train_loss)\n",
    "        if early_stopper.stop:\n",
    "            break\n",
    "\n",
    "    save_model(model, \"rnn_model.pt\")"
   ],
   "metadata": {
    "ExecuteTime": {
     "end_time": "2025-05-27T01:09:02.081193Z",
     "start_time": "2025-05-27T00:51:42.399195Z"
    }
   },
   "outputs": [
    {
     "name": "stderr",
     "output_type": "stream",
     "text": [
      "/tmp/ipykernel_109529/3844681980.py:31: FutureWarning: `torch.cuda.amp.GradScaler(args...)` is deprecated. Please use `torch.amp.GradScaler('cuda', args...)` instead.\n",
      "  scaler    = GradScaler()\n"
     ]
    },
    {
     "name": "stdout",
     "output_type": "stream",
     "text": [
      "\n",
      "Epoch 1\n"
     ]
    },
    {
     "name": "stderr",
     "output_type": "stream",
     "text": [
      "Training:   0%|          | 0/256 [00:00<?, ?it/s]/tmp/ipykernel_109529/565682924.py:9: FutureWarning: `torch.cuda.amp.autocast(args...)` is deprecated. Please use `torch.amp.autocast('cuda', args...)` instead.\n",
      "  with autocast():\n",
      "Training: 100%|██████████| 256/256 [01:47<00:00,  2.37it/s]\n"
     ]
    },
    {
     "name": "stdout",
     "output_type": "stream",
     "text": [
      "\n",
      "BLEU: 0.0092\n",
      "Pred: function check ( str ) { let count = 0 ; for ( let i = 0 ; i < n ; i ++ ) { if ( i == 0 ) { if ( i == 0 ) { if ( i == 0 ) { if ( i == 0 ) { if ( i == 0 ) { if ( i == 0 ) { if ( i == 0 ) { if ( i == 0 ) { if ( i == 0 ) { if ( i == 0 ) { if ( i == 0 ) { if ( i == 0 ) { if ( i == 0 ) { if ( i == 0 ) { if ( i == 0 ) { if ( i == 0 ) { if ( i == 0 ) { if ( i == 0 ) { if ( i == 0 ) { if ( i == 0 ) { if ( i == 0 ) { if ( i == 0 ) { if ( i == 0 ) { if ( i == 0 ) { if ( i == 0 ) { if ( i == 0 ) { if ( i == 0 ) { if ( i == 0 ) { if ( i == 0 ) { if ( i == 0 ) { if ( i == 0 ) { if ( i == 0 ) { if ( i == 0 )\n",
      "Ref : function Conversion ( centi ) { let pixels = ( 96 * centi ) / 2.54 ; document . write ( pixels ) ; return 0 ; } let centi = 15 ; Conversion ( centi )\n",
      "\n",
      "BLEU: 0.1924\n",
      "Pred: function nthTerm ( N , arr , N , K ) { let ans = 0 ; for ( let i = 0 ; i < N ; i ++ ) { if ( arr [ i ] == arr [ i ] ) { if ( arr [ i ] == arr [ i ] ) { if ( arr [ i ] == arr [ i ] ) { if ( arr [ i ] == 0 ) { if ( arr [ i ] == 0 ) { if ( arr [ i ] == 0 ) { ans += arr [ i ] ; } } return ans ; } let arr = [ 1 , 2 , 2 , 2 , 2 , 2 , 2 , 2 , 2 , 2 , 2 , 2 , 2 , 2 , 2 , 2 , 2 , 2 , 2 , 2 , 2 , 2 , 2 , 2 , 2 , 2 , 2 , 2 , 2 , 2 , 2 , 2 , 2 , 2 , 2 , 2 , 2 , 2 , 2 , 2 , 2 , 2 , 2 , 2 , 2 , 2 , 2 , 2 , 2 , 2 , 2 , 2 , 2 , 2 , 2 , 2 , 2 , 2 , 2 , 2 , 2 , 1 , 2 , 1 , 2 , 1 , 2 , 1 , 2 ,\n",
      "Ref : function xor_operations ( N , arr , M , K ) { if ( M < 0 M >= N ) return - 1 ; if ( K < 0 K >= N - M ) return - 1 ; for ( let p = 0 ; p < M ; p ++ ) { let temp = [ ] ; for ( let i = 0 ; i < N ; i ++ ) { let value = arr [ i ] ^ arr [ i + 1 ] ; temp . push ( value ) ; arr [ i ] = temp [ i ] ; } } let ans = arr [ K ] ; return ans ; } let N = 5 ; let arr = [ 1 , 4 , 5 , 6 , 7 ] ; let M = 1 , K = 2 ; document . write ( xor_operations ( N , arr , M , K ) ) ;\n",
      "\n",
      "BLEU: 0.0288\n",
      "Pred: function nthTerm ( n ) { let n = n ; let n = n ; let i = 0 ; while ( i < n ) { if ( i == 0 ) { if ( i % 2 == 0 ) { if ( i == 0 ) { if ( i % 2 == 0 ) { if ( i == 0 ) { if ( i == 0 ) { if ( i == 0 ) { if ( i == 0 ) { if ( i == 0 ) { if ( i == 0 ) { if ( i == 0 ) { if ( i == 0 ) { if ( i == 0 ) { if ( i == 0 ) { if ( i == 0 ) { if ( i == 0 ) { if ( i == 0 ) { if ( i == 0 ) { if ( i == 0 ) { if ( i == 0 ) { if ( i == 0 ) { if ( i == 0 ) { if ( i == 0 ) { if ( i == 0 ) { if ( i == 0 ) { if ( i == 0 ) { if ( i == 0 ) { if ( i == 0 ) { if ( i == 0 ) { if ( i == 0 ) { if ( i == 0 ) { if ( i == 0 ) {\n",
      "Ref : function canBreakN ( n ) { for ( let i = 2 ; ; i ++ ) { let m = parseInt ( i * ( i + 1 ) / 2 , 10 ) ; if ( m > n ) break ; let k = n - m ; if ( k % i != 0 ) continue ; document . write ( i ) ; return ; } document . write ( \" \" ) ; } let N = 12 ; canBreakN ( N ) ;\n",
      "\n",
      "BLEU: 0.0968\n",
      "Pred: function nthTerm ( N ) { let N = Math . floor ( ( N / 2 ) ) ; let ans = Math . floor ( ( N / 2 ) ) ; let ans = Math . floor ( Math . pow ( 2 , N ) ) ; return ( Math . floor ( ( N - 1 ) ) ; } let N = 3 ; document . write ( \" \" + \" \" + \" \" + \" \" + \" \" + \" \" + \" \" + \" \" + \" \" + \" \" + \" \" + \" \" + \" \" + \" \" + \" \" + \" \" + \" \" + \" \" + \" \" + \" \" + \" \" + \" \" + \" \" + \" \" + \" \" + \" \" + \" \" + \" \" + \" \" + \" \" + \" \" + \" \" + \" \" + \" \" + \" \" + \" \" + \" \" + \" \" + \" \" + \" \" + \" \" + \" \" + \" \" + \" \" + \" \" + \" \" + \" \" + \" \" + \" \" + \" \" + \" \" + \" \" + \" \" + \" \" + \" \" + \" \" + \" \" + \" \" + \" \" + \" \" + \" \"\n",
      "Ref : function findCoprimePair ( N ) { for ( let x = 2 ; x <= Math . sqrt ( N ) ; x ++ ) { if ( N % x == 0 ) { while ( N % x == 0 ) { N = Math . floor ( N / x ) ; } if ( N > 1 ) { document . write ( x + \" \" + N + \" \" ) ; return ; } } } document . write ( - 1 + \" \" ) ; } let N = 45 ; findCoprimePair ( N ) ; N = 25 ; findCoprimePair ( N ) ;\n",
      "\n",
      "BLEU: 0.1370\n",
      "Pred: function SieveOfEratosthenes ( MAX ) { let prime = new Array ( MAX ) ; for ( let i = 0 ; i < MAX ; i ++ ) { if ( prime [ i ] == 0 ) { for ( let i = 0 ; i < MAX ; i ++ ) { if ( prime [ i ] == 0 ) { prime [ i ] = 0 ; } } for ( let i = 0 ; i < MAX ; i ++ ) { if ( prime [ i ] == 0 ) { for ( let i = 0 ; i < MAX ; i ++ ) { if ( prime [ i ] == 0 ) { if ( prime [ i ] == 0 ) { if ( prime [ i ] == 0 ) { if ( prime [ i ] == 0 ) { if ( prime [ i ] == 0 ) { if ( prime [ i ] == 0 ) { if ( prime [ i ] == 0 ) { if ( prime [ i ] == 0 ) { if ( prime [ i ] == 0 ) { if ( prime [ i ] == 0 ) { if ( prime [ i ] == 0 ) { if ( prime [ i ] == 0 ) { if ( prime [ i ] == 0 ) { if ( prime [ i ] == 0 ) { if (\n",
      "Ref : let MAX = 10000 ; let primes = [ ] ; function sieveSundaram ( ) { let marked = Array . from ( { length : MAX / 2 + 1 } , ( _ , i ) => 0 ) ; for ( let i = 1 ; i <= Math . floor ( ( Math . sqrt ( MAX ) - 1 ) / 2 ) ; i ++ ) { for ( let j = ( i * ( i + 1 ) ) << 1 ; j <= Math . floor ( MAX / 2 ) ; j = j + 2 * i + 1 ) { marked [ j ] = true ; } } primes . push ( 2 ) ; for ( let i = 1 ; i <= Math . floor ( MAX / 2 ) ; i ++ ) if ( marked [ i ] == false ) primes . push ( 2 * i + 1 ) ; } function isWasteful ( n ) { if ( n == 1 ) return false ; let original_no = n ; let sumDigits = 0 ; while ( original_no > 0 ) { sumDigits ++ ; original_no = Math . floor ( original_no / 10 ) ; } let pDigit = 0 , count_exp = 0 , p = 0 ; for ( let i = 0 ; primes [ i ] <= Math . floor ( n / 2 ) ; i ++ ) { while ( n % primes [ i ] == 0 ) { p = primes [ i ] ; n = Math . floor ( n / p ) ; count_exp ++ ; } while ( p > 0 ) { pDigit ++ ; p = Math . floor ( p / 10 ) ; } while ( count_exp > 1 ) { pDigit ++ ; count_exp = Math . floor ( count_exp / 10 ) ; } } if ( n != 1 ) { while ( n > 0 ) { pDigit ++ ; n = Math . floor ( n / 10 ) ; } } return ( pDigit > sumDigits ) ; } function Solve ( N ) { for ( let i = 1 ; i < N ; i ++ ) { if ( isWasteful ( i ) ) { document . write ( i + \" \" ) ; } } } sieveSundaram ( ) ; let N = 10 ; Solve ( N ) ;\n",
      "Train Loss: 2.5764 | BLEU: 0.0928\n",
      "\n",
      "Epoch 2\n"
     ]
    },
    {
     "name": "stderr",
     "output_type": "stream",
     "text": [
      "Training:   0%|          | 1/256 [00:03<13:51,  3.26s/it]/tmp/ipykernel_109529/565682924.py:9: FutureWarning: `torch.cuda.amp.autocast(args...)` is deprecated. Please use `torch.amp.autocast('cuda', args...)` instead.\n",
      "  with autocast():\n",
      "Training: 100%|██████████| 256/256 [01:45<00:00,  2.43it/s]\n",
      "/tmp/ipykernel_109529/3309552307.py:9: FutureWarning: `torch.cuda.amp.autocast(args...)` is deprecated. Please use `torch.amp.autocast('cuda', args...)` instead.\n",
      "  with torch.no_grad(), autocast():\n"
     ]
    },
    {
     "name": "stdout",
     "output_type": "stream",
     "text": [
      "\n",
      "BLEU: 0.0210\n",
      "Pred: function maxSum ( pat ) { var area = ( ( * * ( ) * ( ) * ( ) / ( ) ) ; document . write ( ( Math . round ( Math . round ( Math . round ( Math . round ( Math . round ( Math . round ( Math . round ( Math . round ( Math . round ( Math . round ( Math . round ( Math . round ( Math . round ( Math . round ( Math . round ( Math . round ( Math . round ( Math . round ( Math . round ( Math . round ( Math . round ( Math . round ( Math . round ( Math . round ( Math . round ( Math . round ( Math . round ( Math . round ( Math . round ( Math . round ( Math . round ( Math . round ( Math . round ( Math . round ( Math . round ( Math . round ( Math . round ( Math . round ( Math . round ( Math . round ( Math . round ( Math . round ( Math . round ( Math . round ( Math . round ( Math . round ( Math . round ( Math . round ( Math . round ( Math . round ( Math . round ( Math . round ( Math . round ( Math . round ( Math . round ( Math . round ( Math\n",
      "Ref : function Conversion ( centi ) { let pixels = ( 96 * centi ) / 2.54 ; document . write ( pixels ) ; return 0 ; } let centi = 15 ; Conversion ( centi )\n",
      "\n",
      "BLEU: 0.2568\n",
      "Pred: function countTriplets ( N , arr , M , K ) { if ( M < 0 M == N ) return - 1 ; if ( K < 0 ) return - 1 ; if ( K < 0 ) return - 1 ; if ( K < 0 ) return - 1 ; if ( K < 0 ) return - 1 ; if ( K < 0 ) return - 1 ; if ( K < 0 ) return - 1 ; else return 0 ; } let N = 5 ; let arr = [ 1 , 4 , 5 , 6 ] ; let M = arr [ 0 ] ; let ans = arr [ 0 ] ; let ans = arr [ 0 ] ; let ans = arr [ 0 ] ; let ans = arr [ 0 ] ; let ans = arr [ 0 ] ; let ans = arr [ K ] ; let ans = arr [ K ] ; let ans = arr [ K ] ; let ans = arr [ K ] ; let ans = arr [ K ] ; let ans = arr [ K ] ; let ans = arr [ K ] ; let ans = arr [ K ] ; let ans = arr [ K ] ; let ans = arr [ K ] ; let ans = arr [ K ] ; let ans = arr [ K ] ; let ans = arr\n",
      "Ref : function xor_operations ( N , arr , M , K ) { if ( M < 0 M >= N ) return - 1 ; if ( K < 0 K >= N - M ) return - 1 ; for ( let p = 0 ; p < M ; p ++ ) { let temp = [ ] ; for ( let i = 0 ; i < N ; i ++ ) { let value = arr [ i ] ^ arr [ i + 1 ] ; temp . push ( value ) ; arr [ i ] = temp [ i ] ; } } let ans = arr [ K ] ; return ans ; } let N = 5 ; let arr = [ 1 , 4 , 5 , 6 , 7 ] ; let M = 1 , K = 2 ; document . write ( xor_operations ( N , arr , M , K ) ) ;\n",
      "\n",
      "BLEU: 0.5213\n",
      "Pred: function isPrime ( n ) { for ( let i = 2 ; i <= n ; i ++ ) { m = i * ( i + 1 ) / 2 ; if ( m > n ) { return k ; } } let n = 12 ; let n = 12 ; if ( n % i == 0 ) { continue ; } document . write ( \" \" ) ; } } let N = 12 ; let n = 12 ; checksum ( N ) ;\n",
      "Ref : function canBreakN ( n ) { for ( let i = 2 ; ; i ++ ) { let m = parseInt ( i * ( i + 1 ) / 2 , 10 ) ; if ( m > n ) break ; let k = n - m ; if ( k % i != 0 ) continue ; document . write ( i ) ; return ; } document . write ( \" \" ) ; } let N = 12 ; canBreakN ( N ) ;\n",
      "\n",
      "BLEU: 0.2519\n",
      "Pred: function isPrime ( N ) { for ( let x = 2 ; x <= Math . sqrt ( N ) ; } let N = N ; let N = 25 ; for ( let x = 2 ; N <= N ; if ( N > 1 ) { document . write ( x + N ) ; } else { document . write ( x + N ) ; } } let N = 45 ; N = N ; N = N ; N = 25 ; document . write ( \" \" + N + \" \" ) ; N = 25 ; document . write ( \" \" ) ; N = parseInt ( N / N ) ; N = parseInt ( N / 3 ) ; N = parseInt ( N / ( N ) ; N = parseInt ( N / ( N ) ; N = parseInt ( N / ( N ) ; N = parseInt ( N / ( N ) ; N = parseInt ( N / ( N ) ; N = parseInt ( N / ( N ) ; N = parseInt ( N / ( N ) ; N = parseInt ( N / ( N ) ; N = parseInt ( N / ( N ) ; N = parseInt ( N / ( N ) ; N = parseInt ( N / ( N ) ; N = parseInt ( N / ( N ) ; N =\n",
      "Ref : function findCoprimePair ( N ) { for ( let x = 2 ; x <= Math . sqrt ( N ) ; x ++ ) { if ( N % x == 0 ) { while ( N % x == 0 ) { N = Math . floor ( N / x ) ; } if ( N > 1 ) { document . write ( x + \" \" + N + \" \" ) ; return ; } } } document . write ( - 1 + \" \" ) ; } let N = 45 ; findCoprimePair ( N ) ; N = 25 ; findCoprimePair ( N ) ;\n",
      "\n",
      "BLEU: 0.1940\n",
      "Pred: let MAX = 1000000 ; let primes = [ ] ; let primes = [ ] ; let primes = [ ] ; let primes = [ ] ; let primes = [ ] ; function sieve ( ) { let i = 0 ; let i = 0 ; for ( let i = 1 ; i < MAX ; i ++ ) { let j = ( i * ( i + 1 ) ) ; while ( j <= 2 ) { j ++ ; j ++ ; while ( j <= 2 ) { j ++ ; j ++ ; } } let primes = n ; let ans = 0 ; while ( ( i > 2 ) { if ( i == 2 ) { if ( j == i ) { if ( j == i ) { if ( j == i ) { if ( j == i ) { if ( j == i ) { if ( j == i ) { if ( j == i ) { if ( j == i ) { if ( j == i ) { let j = i * i + 1 ; j = i ; } } } } function calculate ( n ) { if ( n == 1 ) { return false ; } } let n = n ; let n = 0 , 10 = 0 ; while ( ( ( i ) ) { while ( n % i\n",
      "Ref : let MAX = 10000 ; let primes = [ ] ; function sieveSundaram ( ) { let marked = Array . from ( { length : MAX / 2 + 1 } , ( _ , i ) => 0 ) ; for ( let i = 1 ; i <= Math . floor ( ( Math . sqrt ( MAX ) - 1 ) / 2 ) ; i ++ ) { for ( let j = ( i * ( i + 1 ) ) << 1 ; j <= Math . floor ( MAX / 2 ) ; j = j + 2 * i + 1 ) { marked [ j ] = true ; } } primes . push ( 2 ) ; for ( let i = 1 ; i <= Math . floor ( MAX / 2 ) ; i ++ ) if ( marked [ i ] == false ) primes . push ( 2 * i + 1 ) ; } function isWasteful ( n ) { if ( n == 1 ) return false ; let original_no = n ; let sumDigits = 0 ; while ( original_no > 0 ) { sumDigits ++ ; original_no = Math . floor ( original_no / 10 ) ; } let pDigit = 0 , count_exp = 0 , p = 0 ; for ( let i = 0 ; primes [ i ] <= Math . floor ( n / 2 ) ; i ++ ) { while ( n % primes [ i ] == 0 ) { p = primes [ i ] ; n = Math . floor ( n / p ) ; count_exp ++ ; } while ( p > 0 ) { pDigit ++ ; p = Math . floor ( p / 10 ) ; } while ( count_exp > 1 ) { pDigit ++ ; count_exp = Math . floor ( count_exp / 10 ) ; } } if ( n != 1 ) { while ( n > 0 ) { pDigit ++ ; n = Math . floor ( n / 10 ) ; } } return ( pDigit > sumDigits ) ; } function Solve ( N ) { for ( let i = 1 ; i < N ; i ++ ) { if ( isWasteful ( i ) ) { document . write ( i + \" \" ) ; } } } sieveSundaram ( ) ; let N = 10 ; Solve ( N ) ;\n",
      "Train Loss: 1.3991 | BLEU: 0.2490\n",
      "\n",
      "Epoch 3\n"
     ]
    },
    {
     "name": "stderr",
     "output_type": "stream",
     "text": [
      "Training: 100%|██████████| 256/256 [01:41<00:00,  2.51it/s]\n"
     ]
    },
    {
     "name": "stdout",
     "output_type": "stream",
     "text": [
      "\n",
      "BLEU: 0.1535\n",
      "Pred: function checkIfAllTogether ( input ) { let Volume = ( Math . floor ( ( Math . floor ( ( Math . floor ( ) * ( ) ) / 2 ) ; document . write ( \" \" + 2 ) ; } let n2 = 15 ; let ( ) ;\n",
      "Ref : function Conversion ( centi ) { let pixels = ( 96 * centi ) / 2.54 ; document . write ( pixels ) ; return 0 ; } let centi = 15 ; Conversion ( centi )\n",
      "\n",
      "BLEU: 0.7214\n",
      "Pred: function countNumbers ( N , arr , M , K ) { if ( M < 0 M >= N ) { return - 1 ; } if ( K < 0 K >= N - M ) { return - 1 ; } for ( let i = 0 ; i < M ; i ++ ) { let temp = arr [ i ] ^ arr [ i + 1 ] ; temp . push ( value ) ; } let arr = [ ] ; let ans = arr [ K ] ; return ans ; } let N = 5 ; let arr = [ 1 , 4 , 5 , 6 , 7 ] ; let M = 1 ; let K = 2 ; document . write ( findMinDifference ( N , arr , M , K , K ) ) ;\n",
      "Ref : function xor_operations ( N , arr , M , K ) { if ( M < 0 M >= N ) return - 1 ; if ( K < 0 K >= N - M ) return - 1 ; for ( let p = 0 ; p < M ; p ++ ) { let temp = [ ] ; for ( let i = 0 ; i < N ; i ++ ) { let value = arr [ i ] ^ arr [ i + 1 ] ; temp . push ( value ) ; arr [ i ] = temp [ i ] ; } } let ans = arr [ K ] ; return ans ; } let N = 5 ; let arr = [ 1 , 4 , 5 , 6 , 7 ] ; let M = 1 , K = 2 ; document . write ( xor_operations ( N , arr , M , K ) ) ;\n",
      "\n",
      "BLEU: 0.7130\n",
      "Pred: function countBits ( n ) { for ( let i = 2 ; i <= n ; i ++ ) { let m = i * ( i + 1 ) / 2 ; if ( m % n == i ) continue ; let k = n - m ; if ( k % i == 0 ) continue ; document . write ( i + \" \" ) ; return ; } document . write ( \" \" ) ; } let N = 12 ; let ( N ) ;\n",
      "Ref : function canBreakN ( n ) { for ( let i = 2 ; ; i ++ ) { let m = parseInt ( i * ( i + 1 ) / 2 , 10 ) ; if ( m > n ) break ; let k = n - m ; if ( k % i != 0 ) continue ; document . write ( i ) ; return ; } document . write ( \" \" ) ; } let N = 12 ; canBreakN ( N ) ;\n",
      "\n",
      "BLEU: 0.6615\n",
      "Pred: function istetradecagonal ( N ) { for ( let x = 2 ; x <= Math . sqrt ( N ) ; x ++ ) { if ( N % x == 0 ) { while ( N % x == 0 ) { N = x ; x = Math . floor ( N / x ) ; return ; } } } document . write ( \" \" ) ; } let N = 45 ; let ( N ) ; let N = 25 ; constructArray ( N ) ;\n",
      "Ref : function findCoprimePair ( N ) { for ( let x = 2 ; x <= Math . sqrt ( N ) ; x ++ ) { if ( N % x == 0 ) { while ( N % x == 0 ) { N = Math . floor ( N / x ) ; } if ( N > 1 ) { document . write ( x + \" \" + N + \" \" ) ; return ; } } } document . write ( - 1 + \" \" ) ; } let N = 45 ; findCoprimePair ( N ) ; N = 25 ; findCoprimePair ( N ) ;\n",
      "\n",
      "BLEU: 0.2099\n",
      "Pred: let MAX = 10000 ; let primes = [ ] ; function findFactors ( ) { let marked = new Array ( MAX / 2 ) ; for ( let i = 1 ; i < ( Math . sqrt ( MAX ) / 2 ) ; i ++ ) { let j = ( i * ( i + 1 ) ) ; let j = 1 ; while ( j <= 2 ) { let temp = ( i * ( i + 1 ) ) ; let j = j + 2 * i + 1 * i + 1 ; let j = i + 1 * i + 1 ; let j = i + 1 * i + 1 ; let j = i + 1 * i + 1 ; let j = 0 ; while ( j <= 2 ) { let temp = Math . floor ( Math . floor ( Math . floor ( Math . floor ( Math . floor ( Math . floor ( Math . floor ( Math . floor ( Math . floor ( Math . floor ( Math . floor ( Math . floor ( Math . floor ( Math . floor ( Math . floor ( Math . floor ( Math . floor ( Math . floor ( Math . floor ( Math . floor ( Math . floor ( Math . floor ( Math . floor ( Math . floor ( Math . floor ( Math . floor (\n",
      "Ref : let MAX = 10000 ; let primes = [ ] ; function sieveSundaram ( ) { let marked = Array . from ( { length : MAX / 2 + 1 } , ( _ , i ) => 0 ) ; for ( let i = 1 ; i <= Math . floor ( ( Math . sqrt ( MAX ) - 1 ) / 2 ) ; i ++ ) { for ( let j = ( i * ( i + 1 ) ) << 1 ; j <= Math . floor ( MAX / 2 ) ; j = j + 2 * i + 1 ) { marked [ j ] = true ; } } primes . push ( 2 ) ; for ( let i = 1 ; i <= Math . floor ( MAX / 2 ) ; i ++ ) if ( marked [ i ] == false ) primes . push ( 2 * i + 1 ) ; } function isWasteful ( n ) { if ( n == 1 ) return false ; let original_no = n ; let sumDigits = 0 ; while ( original_no > 0 ) { sumDigits ++ ; original_no = Math . floor ( original_no / 10 ) ; } let pDigit = 0 , count_exp = 0 , p = 0 ; for ( let i = 0 ; primes [ i ] <= Math . floor ( n / 2 ) ; i ++ ) { while ( n % primes [ i ] == 0 ) { p = primes [ i ] ; n = Math . floor ( n / p ) ; count_exp ++ ; } while ( p > 0 ) { pDigit ++ ; p = Math . floor ( p / 10 ) ; } while ( count_exp > 1 ) { pDigit ++ ; count_exp = Math . floor ( count_exp / 10 ) ; } } if ( n != 1 ) { while ( n > 0 ) { pDigit ++ ; n = Math . floor ( n / 10 ) ; } } return ( pDigit > sumDigits ) ; } function Solve ( N ) { for ( let i = 1 ; i < N ; i ++ ) { if ( isWasteful ( i ) ) { document . write ( i + \" \" ) ; } } } sieveSundaram ( ) ; let N = 10 ; Solve ( N ) ;\n",
      "Train Loss: 0.7285 | BLEU: 0.4919\n",
      "\n",
      "Epoch 4\n"
     ]
    },
    {
     "name": "stderr",
     "output_type": "stream",
     "text": [
      "Training: 100%|██████████| 256/256 [01:39<00:00,  2.56it/s]\n"
     ]
    },
    {
     "name": "stdout",
     "output_type": "stream",
     "text": [
      "\n",
      "BLEU: 0.2108\n",
      "Pred: function printNumber ( input ) { let lengthN = ( ( 3.14 * ( ) ) / 100 ; document . write ( \" \" + 2 ) ; } let n2 = 15 ; let ( ) ;\n",
      "Ref : function Conversion ( centi ) { let pixels = ( 96 * centi ) / 2.54 ; document . write ( pixels ) ; return 0 ; } let centi = 15 ; Conversion ( centi )\n",
      "\n",
      "BLEU: 0.6382\n",
      "Pred: function largestNumber ( N , arr , M , K ) { if ( M < 0 M >= N ) return - 1 ; if ( K < 0 K >= N - M ) return - 1 ; for ( let i = 0 ; i < arr . length ; i ++ ) { let value = arr [ i ] ^ arr [ i + 1 ] ; let temp = temp . length ; for ( i = 0 ; i < arr . length - 1 ; i ++ ) { let value = arr [ i ] ^ arr [ i + 1 ] ; let temp = temp . length ; if ( ( K - 1 ) >= N ) { return - 1 ; } } let ans = arr [ 0 ] ; let ans = arr [ K ] ; return ans ; } let N = 5 ; let arr = [ 1 , 4 , 5 , 6 , 7 ] ; let M = 1 , K = 2 ; document . write ( \" \" + \" \" + \" \" ) ;\n",
      "Ref : function xor_operations ( N , arr , M , K ) { if ( M < 0 M >= N ) return - 1 ; if ( K < 0 K >= N - M ) return - 1 ; for ( let p = 0 ; p < M ; p ++ ) { let temp = [ ] ; for ( let i = 0 ; i < N ; i ++ ) { let value = arr [ i ] ^ arr [ i + 1 ] ; temp . push ( value ) ; arr [ i ] = temp [ i ] ; } } let ans = arr [ K ] ; return ans ; } let N = 5 ; let arr = [ 1 , 4 , 5 , 6 , 7 ] ; let M = 1 , K = 2 ; document . write ( xor_operations ( N , arr , M , K ) ) ;\n",
      "\n",
      "BLEU: 0.6361\n",
      "Pred: function maxXorSum ( n ) { let m = i * ( i + 1 ) / 2 ; if ( m > n ) break ; k = n - m ; if ( k % i == 0 ) continue ; document . write ( i + \" \" ) ; return ; } document . write ( \" \" ) ; } let N = 12 ; findSquare ( N ) ;\n",
      "Ref : function canBreakN ( n ) { for ( let i = 2 ; ; i ++ ) { let m = parseInt ( i * ( i + 1 ) / 2 , 10 ) ; if ( m > n ) break ; let k = n - m ; if ( k % i != 0 ) continue ; document . write ( i ) ; return ; } document . write ( \" \" ) ; } let N = 12 ; canBreakN ( N ) ;\n",
      "\n",
      "BLEU: 0.6432\n",
      "Pred: function sumFib ( N ) { for ( let x = 2 ; x <= Math . sqrt ( N ) ; x ++ ) { if ( N % x == 0 ) { while ( N % x == 0 ) { N = x ; x = x ; x = x ; x = x ; x = x ; x = x ; x = parseInt ( N / x ) ; return ; } } document . write ( \" \" ) ; } let N = 45 ; isEqualFactors ( N ) ; N = 25 ; isEqualFactors ( N ) ;\n",
      "Ref : function findCoprimePair ( N ) { for ( let x = 2 ; x <= Math . sqrt ( N ) ; x ++ ) { if ( N % x == 0 ) { while ( N % x == 0 ) { N = Math . floor ( N / x ) ; } if ( N > 1 ) { document . write ( x + \" \" + N + \" \" ) ; return ; } } } document . write ( - 1 + \" \" ) ; } let N = 45 ; findCoprimePair ( N ) ; N = 25 ; findCoprimePair ( N ) ;\n",
      "\n",
      "BLEU: 0.1895\n",
      "Pred: let MAX = 10000 ; let primes = [ ] ; function sieveSundaram ( ) { let marked = new Array ( MAX / 2 ) ; for ( let i = 0 ; i < MAX ; i ++ ) { let j = 0 ; let j = 0 ; let primes = [ ] ; for ( let i = 1 ; i <= Math . sqrt ( MAX ) ; i ++ ) { let j = ( i * ( i + 1 ) ) << 1 ; while ( j <= 2 ) { marked [ j ] = true ; j = j + 2 * i + 1 ; } } let primes = [ 2 , 2 , 2 , 2 , 2 , 2 , 10 , 0 , 0 , 0 , 0 , 0 , 0 , 0 , 0 , 0 , 0 , 0 , 0 , 0 , 0 , 0 , 0 , 0 , 0 , 0 , 0 , 0 , 0 , 0 , 0 , 0 , 0 , 0 , 0 , 0 , 0 , 0 , 0 , 0 , 0 , 0 , 0 , 0 , 0 , 0 , 0 , 0 , 0 , 0 , 0 , 0 , 0 , 0 , 0 , 0 , 0 , 0 , 0 , 0 , 0 , 0 , 0 , 0 , 0 , 0 , 0\n",
      "Ref : let MAX = 10000 ; let primes = [ ] ; function sieveSundaram ( ) { let marked = Array . from ( { length : MAX / 2 + 1 } , ( _ , i ) => 0 ) ; for ( let i = 1 ; i <= Math . floor ( ( Math . sqrt ( MAX ) - 1 ) / 2 ) ; i ++ ) { for ( let j = ( i * ( i + 1 ) ) << 1 ; j <= Math . floor ( MAX / 2 ) ; j = j + 2 * i + 1 ) { marked [ j ] = true ; } } primes . push ( 2 ) ; for ( let i = 1 ; i <= Math . floor ( MAX / 2 ) ; i ++ ) if ( marked [ i ] == false ) primes . push ( 2 * i + 1 ) ; } function isWasteful ( n ) { if ( n == 1 ) return false ; let original_no = n ; let sumDigits = 0 ; while ( original_no > 0 ) { sumDigits ++ ; original_no = Math . floor ( original_no / 10 ) ; } let pDigit = 0 , count_exp = 0 , p = 0 ; for ( let i = 0 ; primes [ i ] <= Math . floor ( n / 2 ) ; i ++ ) { while ( n % primes [ i ] == 0 ) { p = primes [ i ] ; n = Math . floor ( n / p ) ; count_exp ++ ; } while ( p > 0 ) { pDigit ++ ; p = Math . floor ( p / 10 ) ; } while ( count_exp > 1 ) { pDigit ++ ; count_exp = Math . floor ( count_exp / 10 ) ; } } if ( n != 1 ) { while ( n > 0 ) { pDigit ++ ; n = Math . floor ( n / 10 ) ; } } return ( pDigit > sumDigits ) ; } function Solve ( N ) { for ( let i = 1 ; i < N ; i ++ ) { if ( isWasteful ( i ) ) { document . write ( i + \" \" ) ; } } } sieveSundaram ( ) ; let N = 10 ; Solve ( N ) ;\n",
      "Train Loss: 0.4556 | BLEU: 0.4636\n",
      "\n",
      "Epoch 5\n"
     ]
    },
    {
     "name": "stderr",
     "output_type": "stream",
     "text": [
      "Training: 100%|██████████| 256/256 [01:40<00:00,  2.56it/s]\n"
     ]
    },
    {
     "name": "stdout",
     "output_type": "stream",
     "text": [
      "\n",
      "BLEU: 0.1874\n",
      "Pred: function perimeter ( input ) { let setBits = ( 96 * Math . pow ( 10 , 0.5 ) / 100 ) ; document . write ( \" \" + 2 + \" \" + \" \" + \" \" ) ; } let n1 = 15 ; let ( input ) ;\n",
      "Ref : function Conversion ( centi ) { let pixels = ( 96 * centi ) / 2.54 ; document . write ( pixels ) ; return 0 ; } let centi = 15 ; Conversion ( centi )\n",
      "\n",
      "BLEU: 0.5443\n",
      "Pred: function printCoins ( N , arr , M , K ) { if ( M < 0 M >= N ) return - 1 ; if ( K < 0 K >= N - M ) return - 1 ; for ( let i = 0 ; i < M ; i ++ ) { let temp = [ ] ; for ( let i = 0 ; i < arr . length - 1 ; i ++ ) { let temp = [ ] ; for ( let i = 0 ; i < arr . length - 1 ; i ++ ) { let temp = arr [ i ] ^ arr [ i + 1 ] ; let temp = temp . split ( ' ' ) ; for ( let i = 0 ; i < N ; i ++ ) { let temp = arr [ i ] ^ arr [ i + 1 ] ; let temp = temp . split ( ' ' ) ; return ans ; } let ans = arr [ K ] ; let ans = [ 1 , 4 , 5 , 6 , 7 ] ; let M = 1 ; let K = 2 ; document . write ( \" \" + ( ( ( N + arr , M , K ) ) ) ;\n",
      "Ref : function xor_operations ( N , arr , M , K ) { if ( M < 0 M >= N ) return - 1 ; if ( K < 0 K >= N - M ) return - 1 ; for ( let p = 0 ; p < M ; p ++ ) { let temp = [ ] ; for ( let i = 0 ; i < N ; i ++ ) { let value = arr [ i ] ^ arr [ i + 1 ] ; temp . push ( value ) ; arr [ i ] = temp [ i ] ; } } let ans = arr [ K ] ; return ans ; } let N = 5 ; let arr = [ 1 , 4 , 5 , 6 , 7 ] ; let M = 1 , K = 2 ; document . write ( xor_operations ( N , arr , M , K ) ) ;\n",
      "\n",
      "BLEU: 0.7641\n",
      "Pred: function totalNumber ( n ) { for ( let i = 2 ; i < n ; i ++ ) { let m = i * ( i + 1 ) / 2 ; if ( m > n ) break ; k = n - m ; if ( k % i == 0 ) continue ; document . write ( i + \" \" ) ; return ; } document . write ( \" \" ) ; } let N = 12 ; printFactorialNums ( N ) ;\n",
      "Ref : function canBreakN ( n ) { for ( let i = 2 ; ; i ++ ) { let m = parseInt ( i * ( i + 1 ) / 2 , 10 ) ; if ( m > n ) break ; let k = n - m ; if ( k % i != 0 ) continue ; document . write ( i ) ; return ; } document . write ( \" \" ) ; } let N = 12 ; canBreakN ( N ) ;\n",
      "\n",
      "BLEU: 0.7640\n",
      "Pred: function findSolutions ( N ) { for ( let x = 2 ; x <= Math . sqrt ( N ) ; x ++ ) { if ( N % x == 0 ) { while ( N % x == 0 ) { N = x / x ; } if ( N > 1 ) { document . write ( x + \" \" + N ) ; return ; } } document . write ( \" \" ) ; } let N = 45 ; findSolutions ( N ) ; N = 25 ; printSinX ( N ) ;\n",
      "Ref : function findCoprimePair ( N ) { for ( let x = 2 ; x <= Math . sqrt ( N ) ; x ++ ) { if ( N % x == 0 ) { while ( N % x == 0 ) { N = Math . floor ( N / x ) ; } if ( N > 1 ) { document . write ( x + \" \" + N + \" \" ) ; return ; } } } document . write ( - 1 + \" \" ) ; } let N = 45 ; findCoprimePair ( N ) ; N = 25 ; findCoprimePair ( N ) ;\n",
      "\n",
      "BLEU: 0.3379\n",
      "Pred: let MAX = 10000 ; let primes = [ ] ; function sieveSundaram ( ) { let marked = new Array ( MAX / 2 ) ; for ( let i = 0 ; i < MAX / 2 ; i ++ ) marked [ i ] = true ; primes . push ( new Array ( MAX / 2 ) + 1 ) ; for ( let i = 1 ; i <= Math . sqrt ( MAX ) ; i ++ ) { for ( let j = i * ( i + 1 ) ; j <= Math . floor ( ( i / 2 ) ) ; j ++ ) marked [ j ] = true ; let j = 0 ; let primes = [ ] ; function sieveSundaram ( ) { let marked = [ ] ; for ( let i = 1 ; i <= Math . sqrt ( MAX ) ; i ++ ) { let j = ( i * ( i + 1 ) ) << 1 ; while ( j <= parseInt ( MAX / 2 ) ) { marked [ j ] = true ; j = j + 2 * i + 1 ; } } let primes = new Array ( 2 ) ; for ( let i = 1 ; i < ( MAX / 2 ) ; i ++ ) { if ( marked [ i ] == false ) primes . push ( 2 * i + 1 )\n",
      "Ref : let MAX = 10000 ; let primes = [ ] ; function sieveSundaram ( ) { let marked = Array . from ( { length : MAX / 2 + 1 } , ( _ , i ) => 0 ) ; for ( let i = 1 ; i <= Math . floor ( ( Math . sqrt ( MAX ) - 1 ) / 2 ) ; i ++ ) { for ( let j = ( i * ( i + 1 ) ) << 1 ; j <= Math . floor ( MAX / 2 ) ; j = j + 2 * i + 1 ) { marked [ j ] = true ; } } primes . push ( 2 ) ; for ( let i = 1 ; i <= Math . floor ( MAX / 2 ) ; i ++ ) if ( marked [ i ] == false ) primes . push ( 2 * i + 1 ) ; } function isWasteful ( n ) { if ( n == 1 ) return false ; let original_no = n ; let sumDigits = 0 ; while ( original_no > 0 ) { sumDigits ++ ; original_no = Math . floor ( original_no / 10 ) ; } let pDigit = 0 , count_exp = 0 , p = 0 ; for ( let i = 0 ; primes [ i ] <= Math . floor ( n / 2 ) ; i ++ ) { while ( n % primes [ i ] == 0 ) { p = primes [ i ] ; n = Math . floor ( n / p ) ; count_exp ++ ; } while ( p > 0 ) { pDigit ++ ; p = Math . floor ( p / 10 ) ; } while ( count_exp > 1 ) { pDigit ++ ; count_exp = Math . floor ( count_exp / 10 ) ; } } if ( n != 1 ) { while ( n > 0 ) { pDigit ++ ; n = Math . floor ( n / 10 ) ; } } return ( pDigit > sumDigits ) ; } function Solve ( N ) { for ( let i = 1 ; i < N ; i ++ ) { if ( isWasteful ( i ) ) { document . write ( i + \" \" ) ; } } } sieveSundaram ( ) ; let N = 10 ; Solve ( N ) ;\n",
      "Train Loss: 0.3202 | BLEU: 0.5195\n",
      "Saving model...\n",
      "\n",
      "Epoch 6\n"
     ]
    },
    {
     "name": "stderr",
     "output_type": "stream",
     "text": [
      "Training: 100%|██████████| 256/256 [01:43<00:00,  2.48it/s]\n"
     ]
    },
    {
     "name": "stdout",
     "output_type": "stream",
     "text": [
      "\n",
      "BLEU: 0.0498\n",
      "Pred: function perimeter ( input ) { let setBits = 0 ; let x = ( Math . floor ( ( Math . sqrt ( ) ) / Math . log ( Math . round ( Math . sqrt ( Math . sqrt ( 2 ) ) ) ; return Math . round ( Math . round ( Math . round ( Math . round ( Math . round ( Math . round ( Math . round ( Math . round ( Math . round ( Math . round ( Math . round ( Math . round ( Math . round ( Math . round ( Math . round ( Math . round ( Math . round ( Math . round ( Math . round ( Math . round ( Math . round ( ( ) ) ) ) ; } let root = 15 ; let ( ) ; let ( ) ; let ( ) ; let ch2 = ( speedOfTrain ( ) ) ; document . write ( \" \" ) ;\n",
      "Ref : function Conversion ( centi ) { let pixels = ( 96 * centi ) / 2.54 ; document . write ( pixels ) ; return 0 ; } let centi = 15 ; Conversion ( centi )\n",
      "\n",
      "BLEU: 0.7379\n",
      "Pred: function countNumbers ( N , arr , M , K ) { if ( M < 0 M >= N ) return - 1 ; if ( K < 0 K >= N - M ) return - 1 ; for ( let i = 0 ; i < M ; i ++ ) { let temp = arr [ i ] ^ arr [ i + 1 ] ; temp . push ( value ) ; } arr . sort ( ) ; let ans = arr [ K ] ; return ans ; } let N = 5 ; let arr = [ 1 , 4 , 5 , 6 , 7 ] ; let M = 1 ; let K = 2 ; document . write ( Next_greater ( N , arr , M , K ) ) ;\n",
      "Ref : function xor_operations ( N , arr , M , K ) { if ( M < 0 M >= N ) return - 1 ; if ( K < 0 K >= N - M ) return - 1 ; for ( let p = 0 ; p < M ; p ++ ) { let temp = [ ] ; for ( let i = 0 ; i < N ; i ++ ) { let value = arr [ i ] ^ arr [ i + 1 ] ; temp . push ( value ) ; arr [ i ] = temp [ i ] ; } } let ans = arr [ K ] ; return ans ; } let N = 5 ; let arr = [ 1 , 4 , 5 , 6 , 7 ] ; let M = 1 , K = 2 ; document . write ( xor_operations ( N , arr , M , K ) ) ;\n",
      "\n",
      "BLEU: 0.7067\n",
      "Pred: function centeredoctagonalNumber ( n ) { for ( let i = 2 ; i < n ; i ++ ) { let m = i * ( i + 1 ) / 2 ; if ( m > n ) break ; k = n - m ; if ( k % i ) continue ; document . write ( i + \" \" ) ; return ; } document . write ( \" \" ) ; } document . write ( \" \" ) ; } let N = 12 ; findConsecutive ( N ) ;\n",
      "Ref : function canBreakN ( n ) { for ( let i = 2 ; ; i ++ ) { let m = parseInt ( i * ( i + 1 ) / 2 , 10 ) ; if ( m > n ) break ; let k = n - m ; if ( k % i != 0 ) continue ; document . write ( i ) ; return ; } document . write ( \" \" ) ; } let N = 12 ; canBreakN ( N ) ;\n",
      "\n",
      "BLEU: 0.8104\n",
      "Pred: function checkPascaltriangle ( N ) { for ( let x = 2 ; x <= Math . sqrt ( N ) ; x ++ ) { if ( N % x == 0 ) { while ( N % x == 0 ) { N = parseInt ( N / x ) ; } if ( N > 1 ) { document . write ( x + \" \" + N ) ; return ; } } } document . write ( \" \" ) ; } let N = 45 ; let ( N ) { N = 25 ; print ( N ) ; N = 25 ; print ( N ) ;\n",
      "Ref : function findCoprimePair ( N ) { for ( let x = 2 ; x <= Math . sqrt ( N ) ; x ++ ) { if ( N % x == 0 ) { while ( N % x == 0 ) { N = Math . floor ( N / x ) ; } if ( N > 1 ) { document . write ( x + \" \" + N + \" \" ) ; return ; } } } document . write ( - 1 + \" \" ) ; } let N = 45 ; findCoprimePair ( N ) ; N = 25 ; findCoprimePair ( N ) ;\n",
      "\n",
      "BLEU: 0.1921\n",
      "Pred: const MAX = 10000 ; primes = Array ( MAX ) { let marked = new Array ( MAX ) ; for ( let i = 0 ; i < ( ( Math . floor ( MAX / 2 ) ) ; i ++ ) { for ( let j = 0 ; j < ( Math . floor ( Math . floor ( Math . floor ( Math . floor ( Math . floor ( Math . floor ( Math . floor ( Math . floor ( Math . sqrt ( MAX ) ) ) ; j ++ ) { let j = ( i * ( i + 1 ) ) << 1 ; while ( j <= ( Math . floor ( MAX / 2 ) ) { let temp = Math . floor ( ( i * ( i + 1 ) ) / Math . log ( j ) ) ; if ( j >= Math . floor ( ( Math . floor ( ( Math . floor ( ( Math . floor ( ( Math . floor ( ( Math . floor ( ( Math . floor ( ( Math . floor ( ( Math . floor ( ( Math . floor ( ( Math . floor ( ( Math . floor ( ( Math . floor ( ( Math . floor ( ( Math . floor ( ( Math . floor ( ( Math . floor ( ( n / 2 ) ) ) ) { let temp =\n",
      "Ref : let MAX = 10000 ; let primes = [ ] ; function sieveSundaram ( ) { let marked = Array . from ( { length : MAX / 2 + 1 } , ( _ , i ) => 0 ) ; for ( let i = 1 ; i <= Math . floor ( ( Math . sqrt ( MAX ) - 1 ) / 2 ) ; i ++ ) { for ( let j = ( i * ( i + 1 ) ) << 1 ; j <= Math . floor ( MAX / 2 ) ; j = j + 2 * i + 1 ) { marked [ j ] = true ; } } primes . push ( 2 ) ; for ( let i = 1 ; i <= Math . floor ( MAX / 2 ) ; i ++ ) if ( marked [ i ] == false ) primes . push ( 2 * i + 1 ) ; } function isWasteful ( n ) { if ( n == 1 ) return false ; let original_no = n ; let sumDigits = 0 ; while ( original_no > 0 ) { sumDigits ++ ; original_no = Math . floor ( original_no / 10 ) ; } let pDigit = 0 , count_exp = 0 , p = 0 ; for ( let i = 0 ; primes [ i ] <= Math . floor ( n / 2 ) ; i ++ ) { while ( n % primes [ i ] == 0 ) { p = primes [ i ] ; n = Math . floor ( n / p ) ; count_exp ++ ; } while ( p > 0 ) { pDigit ++ ; p = Math . floor ( p / 10 ) ; } while ( count_exp > 1 ) { pDigit ++ ; count_exp = Math . floor ( count_exp / 10 ) ; } } if ( n != 1 ) { while ( n > 0 ) { pDigit ++ ; n = Math . floor ( n / 10 ) ; } } return ( pDigit > sumDigits ) ; } function Solve ( N ) { for ( let i = 1 ; i < N ; i ++ ) { if ( isWasteful ( i ) ) { document . write ( i + \" \" ) ; } } } sieveSundaram ( ) ; let N = 10 ; Solve ( N ) ;\n",
      "Train Loss: 0.2568 | BLEU: 0.4994\n",
      "\n",
      "Epoch 7\n"
     ]
    },
    {
     "name": "stderr",
     "output_type": "stream",
     "text": [
      "Training: 100%|██████████| 256/256 [01:45<00:00,  2.42it/s]\n"
     ]
    },
    {
     "name": "stdout",
     "output_type": "stream",
     "text": [
      "\n",
      "BLEU: 0.1687\n",
      "Pred: function perimeter ( ) { let setBits = ( ( 3.14 * hypotenuse ) / bowls ) ; document . write ( \" \" + \" \" + 2 + \" \" ) ; } let = \" \" ; let ( ) ;\n",
      "Ref : function Conversion ( centi ) { let pixels = ( 96 * centi ) / 2.54 ; document . write ( pixels ) ; return 0 ; } let centi = 15 ; Conversion ( centi )\n",
      "\n",
      "BLEU: 0.7234\n",
      "Pred: function printCoins ( N , arr , M , K ) { if ( M < 0 M >= N ) return - 1 ; if ( K < 0 K >= N - M ) return - 1 ; for ( let i = 0 ; i < M ; i ++ ) { let temp = arr [ i ] ^ arr [ i + 1 ] ; temp . push ( value ) ; } let arr = new Array ( N ) ; for ( let i = 0 ; i < N ; i ++ ) { ans = arr [ i ] ^ arr [ i + 1 ] ; temp . push ( value ) ; } let ans = arr [ K ] ; return ans ; } let N = 5 ; let arr = [ 1 , 4 , 5 , 6 , 7 ] ; let M = 1 ; let K = 2 ; document . write ( \" ( N + arr , M , K ) + \" \" ) ;\n",
      "Ref : function xor_operations ( N , arr , M , K ) { if ( M < 0 M >= N ) return - 1 ; if ( K < 0 K >= N - M ) return - 1 ; for ( let p = 0 ; p < M ; p ++ ) { let temp = [ ] ; for ( let i = 0 ; i < N ; i ++ ) { let value = arr [ i ] ^ arr [ i + 1 ] ; temp . push ( value ) ; arr [ i ] = temp [ i ] ; } } let ans = arr [ K ] ; return ans ; } let N = 5 ; let arr = [ 1 , 4 , 5 , 6 , 7 ] ; let M = 1 , K = 2 ; document . write ( xor_operations ( N , arr , M , K ) ) ;\n",
      "\n",
      "BLEU: 0.7554\n",
      "Pred: function printFactorialNums ( n ) { for ( let i = 2 ; i < n ; i ++ ) { let m = i * ( i + 1 ) / 2 ; if ( m > n ) break ; k = n - m ; if ( k % i ) continue ; document . write ( i + \" \" ) ; return ; } document . write ( \" \" ) ; } let N = 12 ; findLargestRotation ( N ) ;\n",
      "Ref : function canBreakN ( n ) { for ( let i = 2 ; ; i ++ ) { let m = parseInt ( i * ( i + 1 ) / 2 , 10 ) ; if ( m > n ) break ; let k = n - m ; if ( k % i != 0 ) continue ; document . write ( i ) ; return ; } document . write ( \" \" ) ; } let N = 12 ; canBreakN ( N ) ;\n",
      "\n",
      "BLEU: 0.6391\n",
      "Pred: function print ( N ) { for ( let x = 2 ; x <= Math . sqrt ( N ) ; x ++ ) { let mid = Math . floor ( N / x ) ; if ( N > 1 ) { document . write ( x + \" \" + N + \" \" + N ) ; return ; } } document . write ( \" \" ) ; } let N = 45 ; let print = N ; N = 25 ; print ( N ) ;\n",
      "Ref : function findCoprimePair ( N ) { for ( let x = 2 ; x <= Math . sqrt ( N ) ; x ++ ) { if ( N % x == 0 ) { while ( N % x == 0 ) { N = Math . floor ( N / x ) ; } if ( N > 1 ) { document . write ( x + \" \" + N + \" \" ) ; return ; } } } document . write ( - 1 + \" \" ) ; } let N = 45 ; findCoprimePair ( N ) ; N = 25 ; findCoprimePair ( N ) ;\n",
      "\n",
      "BLEU: 0.3825\n",
      "Pred: let MAX = 10000 ; let primes = [ ] ; function sieveSundaram ( ) { let marked = new Array ( MAX / 2 ) ; for ( let i = 0 ; i < MAX / 2 ; i ++ ) marked [ i ] = 0 ; for ( let i = 1 ; i <= ( Math . floor ( ( MAX ) / 2 ) ; i ++ ) { let j = ( i * ( i + 1 ) ) << 1 ; while ( j <= ( MAX / 2 ) ) { if ( [ j ] = true ; j = j + 2 * i + 1 ; } } let primes = new Array ( 2 ) ; for ( let i = 1 ; i <= Math . floor ( MAX / 2 ) ; i ++ ) { if ( marked [ i ] == false ) primes . push ( 2 * i + 1 ) ; } } function countRemovals ( n ) { if ( n == 1 ) return false ; let original_no = n ; let sum = 0 ; while ( n > 0 ) { let sum = parseInt ( Math . floor ( n / primes [ i ] ) ) ; let sum = Math . floor ( Math . floor ( n / primes [ i ] ) ) ; let left_leaf_nodes = Math . floor ( Math . floor ( n\n",
      "Ref : let MAX = 10000 ; let primes = [ ] ; function sieveSundaram ( ) { let marked = Array . from ( { length : MAX / 2 + 1 } , ( _ , i ) => 0 ) ; for ( let i = 1 ; i <= Math . floor ( ( Math . sqrt ( MAX ) - 1 ) / 2 ) ; i ++ ) { for ( let j = ( i * ( i + 1 ) ) << 1 ; j <= Math . floor ( MAX / 2 ) ; j = j + 2 * i + 1 ) { marked [ j ] = true ; } } primes . push ( 2 ) ; for ( let i = 1 ; i <= Math . floor ( MAX / 2 ) ; i ++ ) if ( marked [ i ] == false ) primes . push ( 2 * i + 1 ) ; } function isWasteful ( n ) { if ( n == 1 ) return false ; let original_no = n ; let sumDigits = 0 ; while ( original_no > 0 ) { sumDigits ++ ; original_no = Math . floor ( original_no / 10 ) ; } let pDigit = 0 , count_exp = 0 , p = 0 ; for ( let i = 0 ; primes [ i ] <= Math . floor ( n / 2 ) ; i ++ ) { while ( n % primes [ i ] == 0 ) { p = primes [ i ] ; n = Math . floor ( n / p ) ; count_exp ++ ; } while ( p > 0 ) { pDigit ++ ; p = Math . floor ( p / 10 ) ; } while ( count_exp > 1 ) { pDigit ++ ; count_exp = Math . floor ( count_exp / 10 ) ; } } if ( n != 1 ) { while ( n > 0 ) { pDigit ++ ; n = Math . floor ( n / 10 ) ; } } return ( pDigit > sumDigits ) ; } function Solve ( N ) { for ( let i = 1 ; i < N ; i ++ ) { if ( isWasteful ( i ) ) { document . write ( i + \" \" ) ; } } } sieveSundaram ( ) ; let N = 10 ; Solve ( N ) ;\n",
      "Train Loss: 0.2230 | BLEU: 0.5338\n",
      "Saving model...\n",
      "\n",
      "Epoch 8\n"
     ]
    },
    {
     "name": "stderr",
     "output_type": "stream",
     "text": [
      "Training: 100%|██████████| 256/256 [01:43<00:00,  2.48it/s]\n"
     ]
    },
    {
     "name": "stdout",
     "output_type": "stream",
     "text": [
      "\n",
      "BLEU: 0.0322\n",
      "Pred: function perimeter ( str1 ) { let len = ( Math . ceil ( ) ) / 100 ; document . write ( \" \" + \" \" + \" \" ) ; document . write ( \" \" + \" \" + \" \" ) ; document . write ( \" \" + \" \" + \" \" ) ; document . write ( \" \" + \" \" ) ; document . write ( \" \" + \" \" ) ; document . write ( \" \" + \" \" ) ; document . write ( \" \" + \" \" ) ; document . write ( \" \" + \" \" ) ; document . write ( \" \" + \" \" ) ; document . write ( \" \" + \" \" ) ; document . write ( \" \" + \" \" ) ; document . write ( \" \" + \" \" ) ; document . write ( \" \" + \" \" ) ; document . write ( \" \" + \" \" ) ; document . write ( \" \" + \" \" ) ;\n",
      "Ref : function Conversion ( centi ) { let pixels = ( 96 * centi ) / 2.54 ; document . write ( pixels ) ; return 0 ; } let centi = 15 ; Conversion ( centi )\n",
      "\n",
      "BLEU: 0.6528\n",
      "Pred: function reverse ( N , arr , M , K ) { if ( M < 0 M >= N ) return - 1 ; if ( K < 0 K >= N - M ) return - 1 ; for ( let i = 0 ; i < M ; i ++ ) { let temp = [ ] ; for ( let i = 0 ; i < N - 1 ; i ++ ) { let temp = arr [ i ] ^ arr [ i + 1 ] ; temp . push ( value ) ; } let arr = [ ... arr , N , 4 , 5 , 6 , 7 ] ; let M = 1 ; let K = 2 ; document . write ( \" \" + N + \" \" + K ) ;\n",
      "Ref : function xor_operations ( N , arr , M , K ) { if ( M < 0 M >= N ) return - 1 ; if ( K < 0 K >= N - M ) return - 1 ; for ( let p = 0 ; p < M ; p ++ ) { let temp = [ ] ; for ( let i = 0 ; i < N ; i ++ ) { let value = arr [ i ] ^ arr [ i + 1 ] ; temp . push ( value ) ; arr [ i ] = temp [ i ] ; } } let ans = arr [ K ] ; return ans ; } let N = 5 ; let arr = [ 1 , 4 , 5 , 6 , 7 ] ; let M = 1 , K = 2 ; document . write ( xor_operations ( N , arr , M , K ) ) ;\n",
      "\n",
      "BLEU: 0.6667\n",
      "Pred: function printPermutation ( n ) { for ( let i = 2 ; i < n ; i ++ ) { m = i * ( i + 1 ) / 2 ; if ( m > n ) break ; } let k = n - m ; if ( k % i ) { continue ; } k = n - m ; if ( k % i == 0 ) continue ; document . write ( i ) ; return ; } document . write ( \" \" ) ; } let N = 12 ; findConsecutive ( N ) ;\n",
      "Ref : function canBreakN ( n ) { for ( let i = 2 ; ; i ++ ) { let m = parseInt ( i * ( i + 1 ) / 2 , 10 ) ; if ( m > n ) break ; let k = n - m ; if ( k % i != 0 ) continue ; document . write ( i ) ; return ; } document . write ( \" \" ) ; } let N = 12 ; canBreakN ( N ) ;\n",
      "\n",
      "BLEU: 0.7444\n",
      "Pred: function factorial ( N ) { for ( let x = 2 ; x <= Math . sqrt ( N ) ; x ++ ) { if ( N % x == 0 ) { while ( N % x == 0 ) { while ( N % x == 0 ) { while ( N % x == 0 ) { N = x / x ; } if ( N > 1 ) { document . write ( x + \" \" + N ) ; return ; } } } document . write ( \" \" ) ; } let N = 45 ; document . write ( N ) ;\n",
      "Ref : function findCoprimePair ( N ) { for ( let x = 2 ; x <= Math . sqrt ( N ) ; x ++ ) { if ( N % x == 0 ) { while ( N % x == 0 ) { N = Math . floor ( N / x ) ; } if ( N > 1 ) { document . write ( x + \" \" + N + \" \" ) ; return ; } } } document . write ( - 1 + \" \" ) ; } let N = 45 ; findCoprimePair ( N ) ; N = 25 ; findCoprimePair ( N ) ;\n",
      "\n",
      "BLEU: 0.3212\n",
      "Pred: let MAX = 10000 ; let primes = [ ] ; function sieveSundaram ( ) { let marked = new Array ( MAX / 2 ) ; for ( let i = 0 ; i < MAX / 2 ; i ++ ) marked [ i ] = 0 ; marked [ i ] = 0 ; } function sieveSundaram ( ) { let marked = new Array ( MAX / 2 ) ; for ( let i = 0 ; i < MAX ; i ++ ) marked [ i ] = 1 ; for ( let i = 1 ; i <= Math . sqrt ( MAX ) ; i ++ ) { for ( let j = 0 ; j < MAX ; j ++ ) { j = ( i * ( i + 1 ) ) << 1 ; } } let primes = new Map ( ) ; for ( let i = 1 ; i <= Math . floor ( Math . sqrt ( MAX ) ) ; i ++ ) { let j = ( i * ( i + 1 ) ) << 1 ; let j = j + 2 * i + 1 ; let j = 0 ; for ( let j = 0 ; j <= ( MAX / 2 ) ; j ++ ) marked [ j ] = true ; } } } function __gcd ( n ) { if ( n == 1 ) return false ; let original_no =\n",
      "Ref : let MAX = 10000 ; let primes = [ ] ; function sieveSundaram ( ) { let marked = Array . from ( { length : MAX / 2 + 1 } , ( _ , i ) => 0 ) ; for ( let i = 1 ; i <= Math . floor ( ( Math . sqrt ( MAX ) - 1 ) / 2 ) ; i ++ ) { for ( let j = ( i * ( i + 1 ) ) << 1 ; j <= Math . floor ( MAX / 2 ) ; j = j + 2 * i + 1 ) { marked [ j ] = true ; } } primes . push ( 2 ) ; for ( let i = 1 ; i <= Math . floor ( MAX / 2 ) ; i ++ ) if ( marked [ i ] == false ) primes . push ( 2 * i + 1 ) ; } function isWasteful ( n ) { if ( n == 1 ) return false ; let original_no = n ; let sumDigits = 0 ; while ( original_no > 0 ) { sumDigits ++ ; original_no = Math . floor ( original_no / 10 ) ; } let pDigit = 0 , count_exp = 0 , p = 0 ; for ( let i = 0 ; primes [ i ] <= Math . floor ( n / 2 ) ; i ++ ) { while ( n % primes [ i ] == 0 ) { p = primes [ i ] ; n = Math . floor ( n / p ) ; count_exp ++ ; } while ( p > 0 ) { pDigit ++ ; p = Math . floor ( p / 10 ) ; } while ( count_exp > 1 ) { pDigit ++ ; count_exp = Math . floor ( count_exp / 10 ) ; } } if ( n != 1 ) { while ( n > 0 ) { pDigit ++ ; n = Math . floor ( n / 10 ) ; } } return ( pDigit > sumDigits ) ; } function Solve ( N ) { for ( let i = 1 ; i < N ; i ++ ) { if ( isWasteful ( i ) ) { document . write ( i + \" \" ) ; } } } sieveSundaram ( ) ; let N = 10 ; Solve ( N ) ;\n",
      "Train Loss: 0.2253 | BLEU: 0.4834\n",
      "\n",
      "Epoch 9\n"
     ]
    },
    {
     "name": "stderr",
     "output_type": "stream",
     "text": [
      "Training: 100%|██████████| 256/256 [01:43<00:00,  2.47it/s]\n"
     ]
    },
    {
     "name": "stdout",
     "output_type": "stream",
     "text": [
      "\n",
      "BLEU: 0.0877\n",
      "Pred: function findMaximumNum ( s2 ) { var setBits = ( ( 3.14 * ( ) * 100 ) / 100 ; document . write ( Math . round ( Math . round ( Math . round ( Math . round ( Math . round ( Math . round ( Math . round ( ) . toFixed ( 2 ) ) ) ; } var string = 15 ; var ( ang ) . toFixed ( 4 ) ;\n",
      "Ref : function Conversion ( centi ) { let pixels = ( 96 * centi ) / 2.54 ; document . write ( pixels ) ; return 0 ; } let centi = 15 ; Conversion ( centi )\n",
      "\n",
      "BLEU: 0.7310\n",
      "Pred: function bitCount ( N , arr , M , K ) { if ( M < 0 M >= N ) return - 1 ; if ( K < 0 K >= N - M ) return - 1 ; for ( let i = 0 ; i < M ; i ++ ) { let temp = arr [ i ] ^ arr [ i + 1 ] ; temp . push ( value ) ; } let ans = arr [ K ] ; return ans ; } let N = 5 ; let arr = [ 1 , 4 , 5 , 6 , 7 ] ; let M = 1 ; let K = 2 ; document . write ( minDifferenceAmongMaxMin ( N , arr , M , K ) ) ;\n",
      "Ref : function xor_operations ( N , arr , M , K ) { if ( M < 0 M >= N ) return - 1 ; if ( K < 0 K >= N - M ) return - 1 ; for ( let p = 0 ; p < M ; p ++ ) { let temp = [ ] ; for ( let i = 0 ; i < N ; i ++ ) { let value = arr [ i ] ^ arr [ i + 1 ] ; temp . push ( value ) ; arr [ i ] = temp [ i ] ; } } let ans = arr [ K ] ; return ans ; } let N = 5 ; let arr = [ 1 , 4 , 5 , 6 , 7 ] ; let M = 1 , K = 2 ; document . write ( xor_operations ( N , arr , M , K ) ) ;\n",
      "\n",
      "BLEU: 0.6240\n",
      "Pred: function printFactorialNums ( n ) { let m = i * ( i + 1 ) / 2 ; if ( m > n ) break ; k = n - m ; if ( k % i ) continue ; document . write ( i + \" \" ) ; return ; } document . write ( \" \" ) ; } let N = 12 ; Sum_upto_nth_Term ( N ) ;\n",
      "Ref : function canBreakN ( n ) { for ( let i = 2 ; ; i ++ ) { let m = parseInt ( i * ( i + 1 ) / 2 , 10 ) ; if ( m > n ) break ; let k = n - m ; if ( k % i != 0 ) continue ; document . write ( i ) ; return ; } document . write ( \" \" ) ; } let N = 12 ; canBreakN ( N ) ;\n",
      "\n",
      "BLEU: 0.6330\n",
      "Pred: function print ( N ) { for ( let x = 2 ; x <= Math . sqrt ( N ) ; x ++ ) { if ( N % x == 0 ) { while ( N % x == 0 ) N = x / x ; if ( N > 1 ) { document . write ( x + \" \" + N + \" \" ) ; return ; } } } document . write ( \" \" ) ; } let N = 45 ; let ( N ) ; N = 25 ; let print = ( N ) . toString ( ) ; N = 25 ; let print = ( N ) . toString ( ) ; N = 25 ; let N = 25 ; document . write ( Math . floor ( N ) ) ;\n",
      "Ref : function findCoprimePair ( N ) { for ( let x = 2 ; x <= Math . sqrt ( N ) ; x ++ ) { if ( N % x == 0 ) { while ( N % x == 0 ) { N = Math . floor ( N / x ) ; } if ( N > 1 ) { document . write ( x + \" \" + N + \" \" ) ; return ; } } } document . write ( - 1 + \" \" ) ; } let N = 45 ; findCoprimePair ( N ) ; N = 25 ; findCoprimePair ( N ) ;\n",
      "\n",
      "BLEU: 0.3622\n",
      "Pred: let MAX = 10000 ; let primes = [ ] ; function sieveSundaram ( ) { let marked = new Array ( MAX / 2 ) ; for ( let i = 0 ; i < MAX / 2 ; i ++ ) marked [ i ] = 0 ; let marked = new Array ( MAX / 2 ) ; for ( let i = 1 ; i < ( Math . floor ( MAX / 2 ) ) - 1 / 2 ) ; i ++ ) { for ( let j = ( i * ( i + 1 ) ) << 1 ; j <= Math . floor ( MAX / 2 ) ; j ++ ) { marked [ j ] = true ; } } } } function __gcd ( n ) { if ( n == 1 ) return false ; let original_no = n ; let sum = 0 ; while ( n > 0 ) { let sum = 0 ; while ( parseInt ( n / 2 ) ) { sum += 1 ; } let sum = Math . floor ( ( Math . floor ( ( n / 2 ) ) ) ; let ans = 0 ; let ans = 0 , p = 0 , exc = 0 ; for ( let i = 0 ; primes [ i ] <= ( n / 2 ) ; i ++ ) { while ( n % primes [ i ] == 0 )\n",
      "Ref : let MAX = 10000 ; let primes = [ ] ; function sieveSundaram ( ) { let marked = Array . from ( { length : MAX / 2 + 1 } , ( _ , i ) => 0 ) ; for ( let i = 1 ; i <= Math . floor ( ( Math . sqrt ( MAX ) - 1 ) / 2 ) ; i ++ ) { for ( let j = ( i * ( i + 1 ) ) << 1 ; j <= Math . floor ( MAX / 2 ) ; j = j + 2 * i + 1 ) { marked [ j ] = true ; } } primes . push ( 2 ) ; for ( let i = 1 ; i <= Math . floor ( MAX / 2 ) ; i ++ ) if ( marked [ i ] == false ) primes . push ( 2 * i + 1 ) ; } function isWasteful ( n ) { if ( n == 1 ) return false ; let original_no = n ; let sumDigits = 0 ; while ( original_no > 0 ) { sumDigits ++ ; original_no = Math . floor ( original_no / 10 ) ; } let pDigit = 0 , count_exp = 0 , p = 0 ; for ( let i = 0 ; primes [ i ] <= Math . floor ( n / 2 ) ; i ++ ) { while ( n % primes [ i ] == 0 ) { p = primes [ i ] ; n = Math . floor ( n / p ) ; count_exp ++ ; } while ( p > 0 ) { pDigit ++ ; p = Math . floor ( p / 10 ) ; } while ( count_exp > 1 ) { pDigit ++ ; count_exp = Math . floor ( count_exp / 10 ) ; } } if ( n != 1 ) { while ( n > 0 ) { pDigit ++ ; n = Math . floor ( n / 10 ) ; } } return ( pDigit > sumDigits ) ; } function Solve ( N ) { for ( let i = 1 ; i < N ; i ++ ) { if ( isWasteful ( i ) ) { document . write ( i + \" \" ) ; } } } sieveSundaram ( ) ; let N = 10 ; Solve ( N ) ;\n",
      "Train Loss: 0.1967 | BLEU: 0.4876\n",
      "\n",
      "Epoch 10\n"
     ]
    },
    {
     "name": "stderr",
     "output_type": "stream",
     "text": [
      "Training: 100%|██████████| 256/256 [01:41<00:00,  2.52it/s]\n"
     ]
    },
    {
     "name": "stdout",
     "output_type": "stream",
     "text": [
      "\n",
      "BLEU: 0.1140\n",
      "Pred: function min ( a , b ) { return ( a * b ) / 100.0 ; } function countSetBits ( s2 ) { var setBits = ( ( 3.14 * ( ) * ( ) / ( ) ) ; document . write ( \" \" + 2 ) ; } var head = 15 ; var ( ) ;\n",
      "Ref : function Conversion ( centi ) { let pixels = ( 96 * centi ) / 2.54 ; document . write ( pixels ) ; return 0 ; } let centi = 15 ; Conversion ( centi )\n",
      "\n",
      "BLEU: 0.6802\n",
      "Pred: function countSetBits ( N , arr , M , K ) { if ( M < 0 M >= N ) return - 1 ; if ( K < 0 K >= N - M ) return - 1 ; for ( var i = 0 ; i < M ; i ++ ) { var temp = [ ] ; for ( i = 0 ; i < N - 1 ; i ++ ) { var temp = arr [ i ] ^ arr [ i + 1 ] ; temp . push ( value ) ; } arr . reverse ( ) ; return ans ; } var N = 5 ; var arr = [ 1 , 4 , 5 , 6 , 7 ] ; var M = 1 ; var K = 2 ; document . write ( ( ( ( ( ( ( ( ( ( ( ( ( N , arr , M , K ) ) ;\n",
      "Ref : function xor_operations ( N , arr , M , K ) { if ( M < 0 M >= N ) return - 1 ; if ( K < 0 K >= N - M ) return - 1 ; for ( let p = 0 ; p < M ; p ++ ) { let temp = [ ] ; for ( let i = 0 ; i < N ; i ++ ) { let value = arr [ i ] ^ arr [ i + 1 ] ; temp . push ( value ) ; arr [ i ] = temp [ i ] ; } } let ans = arr [ K ] ; return ans ; } let N = 5 ; let arr = [ 1 , 4 , 5 , 6 , 7 ] ; let M = 1 , K = 2 ; document . write ( xor_operations ( N , arr , M , K ) ) ;\n",
      "\n",
      "BLEU: 0.5426\n",
      "Pred: function findNumbers ( n ) { for ( let i = 2 ; i < n ; i ++ ) { let m = i * ( i + 1 ) / 2 ; if ( m > n ) break ; k = m - 1 ; if ( k % i ) continue ; document . write ( i + \" \" ) ; return ; } document . write ( \" \" ) ; } let N = 12 ; let n = n ; document . write ( \" \" ) ; document . write ( \" \" ) ; } let N = 12 ; let n = 12 ; print_sequence ( N ) ;\n",
      "Ref : function canBreakN ( n ) { for ( let i = 2 ; ; i ++ ) { let m = parseInt ( i * ( i + 1 ) / 2 , 10 ) ; if ( m > n ) break ; let k = n - m ; if ( k % i != 0 ) continue ; document . write ( i ) ; return ; } document . write ( \" \" ) ; } let N = 12 ; canBreakN ( N ) ;\n",
      "\n",
      "BLEU: 0.8110\n",
      "Pred: function print ( N ) { for ( let x = 2 ; x <= Math . sqrt ( N ) ; x ++ ) { if ( N % x == 0 ) { while ( N % x == 0 ) { N = parseInt ( N / x ) ; } if ( N > 1 ) { document . write ( x + \" \" + N + \" \" ) ; return ; } } document . write ( \" \" ) ; } let N = 45 ; let ( N ) ; N = 25 ; let print = ( N ) ; N = 25 ; let ( N ) ;\n",
      "Ref : function findCoprimePair ( N ) { for ( let x = 2 ; x <= Math . sqrt ( N ) ; x ++ ) { if ( N % x == 0 ) { while ( N % x == 0 ) { N = Math . floor ( N / x ) ; } if ( N > 1 ) { document . write ( x + \" \" + N + \" \" ) ; return ; } } } document . write ( - 1 + \" \" ) ; } let N = 45 ; findCoprimePair ( N ) ; N = 25 ; findCoprimePair ( N ) ;\n",
      "\n",
      "BLEU: 0.2812\n",
      "Pred: let MAX = 10000 ; let primes = new Array ( ) ; function sieveSundaram ( ) { let marked = new Array ( MAX / 2 ) ; for ( let i = 0 ; i < MAX / 2 ; i ++ ) marked [ i ] = 0 ; let marked = [ ] ; for ( let i = 1 ; i <= Math . floor ( ( Math . sqrt ( MAX ) ) ; i ++ ) { let j = ( i * ( i + 1 ) ) << 1 ; let j = 0 ; for ( let j = 0 ; j <= ( MAX / 2 ) ; j ++ ) marked [ j ] = true ; } } function SieveOfEratosthenes ( n ) { let marked = new Array ( MAX ) ; for ( let i = 0 ; i < Math . floor ( ( i / 2 ) ) ; i ++ ) { let j = Math . floor ( ( i * ( i + 1 ) ) << 1 ) ; let j = 0 ; for ( let j = 0 ; j <= ( MAX / 2 ) ; j ++ ) marked [ j ] = true ; } } function SieveOfEratosthenes ( n ) { let n = n ; let sum = 0 ; while ( ( Math . log ( MAX / 2 ) + 1 ) ) > 0 )\n",
      "Ref : let MAX = 10000 ; let primes = [ ] ; function sieveSundaram ( ) { let marked = Array . from ( { length : MAX / 2 + 1 } , ( _ , i ) => 0 ) ; for ( let i = 1 ; i <= Math . floor ( ( Math . sqrt ( MAX ) - 1 ) / 2 ) ; i ++ ) { for ( let j = ( i * ( i + 1 ) ) << 1 ; j <= Math . floor ( MAX / 2 ) ; j = j + 2 * i + 1 ) { marked [ j ] = true ; } } primes . push ( 2 ) ; for ( let i = 1 ; i <= Math . floor ( MAX / 2 ) ; i ++ ) if ( marked [ i ] == false ) primes . push ( 2 * i + 1 ) ; } function isWasteful ( n ) { if ( n == 1 ) return false ; let original_no = n ; let sumDigits = 0 ; while ( original_no > 0 ) { sumDigits ++ ; original_no = Math . floor ( original_no / 10 ) ; } let pDigit = 0 , count_exp = 0 , p = 0 ; for ( let i = 0 ; primes [ i ] <= Math . floor ( n / 2 ) ; i ++ ) { while ( n % primes [ i ] == 0 ) { p = primes [ i ] ; n = Math . floor ( n / p ) ; count_exp ++ ; } while ( p > 0 ) { pDigit ++ ; p = Math . floor ( p / 10 ) ; } while ( count_exp > 1 ) { pDigit ++ ; count_exp = Math . floor ( count_exp / 10 ) ; } } if ( n != 1 ) { while ( n > 0 ) { pDigit ++ ; n = Math . floor ( n / 10 ) ; } } return ( pDigit > sumDigits ) ; } function Solve ( N ) { for ( let i = 1 ; i < N ; i ++ ) { if ( isWasteful ( i ) ) { document . write ( i + \" \" ) ; } } } sieveSundaram ( ) ; let N = 10 ; Solve ( N ) ;\n",
      "Train Loss: 0.1657 | BLEU: 0.4858\n",
      "Saving model...\n"
     ]
    }
   ],
   "execution_count": 8
  },
  {
   "metadata": {
    "ExecuteTime": {
     "end_time": "2025-05-27T01:09:02.552497Z",
     "start_time": "2025-05-27T01:09:02.109912Z"
    }
   },
   "cell_type": "code",
   "source": [
    "rnn_model = AttnSeq2Seq(VOCAB_SIZE, 256, 512, pad_idx=tokenizer.pad_token_id).to(DEVICE)\n",
    "rnn_model = torch.compile(rnn_model)\n",
    "rnn_model.load_state_dict(torch.load(\"best_model.pt\"))\n",
    "\n",
    "bleu = evaluate_bleu(rnn_model, val_pairs, tokenizer, DEVICE)"
   ],
   "outputs": [
    {
     "name": "stdout",
     "output_type": "stream",
     "text": [
      "\n",
      "BLEU: 0.1687\n",
      "Pred: function perimeter ( ) { let setBits = ( ( 3.14 * hypotenuse ) / bowls ) ; document . write ( \" \" + \" \" + 2 + \" \" ) ; } let = \" \" ; let ( ) ;\n",
      "Ref : function Conversion ( centi ) { let pixels = ( 96 * centi ) / 2.54 ; document . write ( pixels ) ; return 0 ; } let centi = 15 ; Conversion ( centi )\n"
     ]
    },
    {
     "name": "stderr",
     "output_type": "stream",
     "text": [
      "/tmp/ipykernel_109529/3309552307.py:9: FutureWarning: `torch.cuda.amp.autocast(args...)` is deprecated. Please use `torch.amp.autocast('cuda', args...)` instead.\n",
      "  with torch.no_grad(), autocast():\n"
     ]
    },
    {
     "name": "stdout",
     "output_type": "stream",
     "text": [
      "\n",
      "BLEU: 0.7234\n",
      "Pred: function printCoins ( N , arr , M , K ) { if ( M < 0 M >= N ) return - 1 ; if ( K < 0 K >= N - M ) return - 1 ; for ( let i = 0 ; i < M ; i ++ ) { let temp = arr [ i ] ^ arr [ i + 1 ] ; temp . push ( value ) ; } let arr = new Array ( N ) ; for ( let i = 0 ; i < N ; i ++ ) { ans = arr [ i ] ^ arr [ i + 1 ] ; temp . push ( value ) ; } let ans = arr [ K ] ; return ans ; } let N = 5 ; let arr = [ 1 , 4 , 5 , 6 , 7 ] ; let M = 1 ; let K = 2 ; document . write ( \" ( N + arr , M , K ) + \" \" ) ;\n",
      "Ref : function xor_operations ( N , arr , M , K ) { if ( M < 0 M >= N ) return - 1 ; if ( K < 0 K >= N - M ) return - 1 ; for ( let p = 0 ; p < M ; p ++ ) { let temp = [ ] ; for ( let i = 0 ; i < N ; i ++ ) { let value = arr [ i ] ^ arr [ i + 1 ] ; temp . push ( value ) ; arr [ i ] = temp [ i ] ; } } let ans = arr [ K ] ; return ans ; } let N = 5 ; let arr = [ 1 , 4 , 5 , 6 , 7 ] ; let M = 1 , K = 2 ; document . write ( xor_operations ( N , arr , M , K ) ) ;\n",
      "\n",
      "BLEU: 0.7554\n",
      "Pred: function printFactorialNums ( n ) { for ( let i = 2 ; i < n ; i ++ ) { let m = i * ( i + 1 ) / 2 ; if ( m > n ) break ; k = n - m ; if ( k % i ) continue ; document . write ( i + \" \" ) ; return ; } document . write ( \" \" ) ; } let N = 12 ; findLargestRotation ( N ) ;\n",
      "Ref : function canBreakN ( n ) { for ( let i = 2 ; ; i ++ ) { let m = parseInt ( i * ( i + 1 ) / 2 , 10 ) ; if ( m > n ) break ; let k = n - m ; if ( k % i != 0 ) continue ; document . write ( i ) ; return ; } document . write ( \" \" ) ; } let N = 12 ; canBreakN ( N ) ;\n",
      "\n",
      "BLEU: 0.6391\n",
      "Pred: function print ( N ) { for ( let x = 2 ; x <= Math . sqrt ( N ) ; x ++ ) { let mid = Math . floor ( N / x ) ; if ( N > 1 ) { document . write ( x + \" \" + N + \" \" + N ) ; return ; } } document . write ( \" \" ) ; } let N = 45 ; let print = N ; N = 25 ; print ( N ) ;\n",
      "Ref : function findCoprimePair ( N ) { for ( let x = 2 ; x <= Math . sqrt ( N ) ; x ++ ) { if ( N % x == 0 ) { while ( N % x == 0 ) { N = Math . floor ( N / x ) ; } if ( N > 1 ) { document . write ( x + \" \" + N + \" \" ) ; return ; } } } document . write ( - 1 + \" \" ) ; } let N = 45 ; findCoprimePair ( N ) ; N = 25 ; findCoprimePair ( N ) ;\n",
      "\n",
      "BLEU: 0.3825\n",
      "Pred: let MAX = 10000 ; let primes = [ ] ; function sieveSundaram ( ) { let marked = new Array ( MAX / 2 ) ; for ( let i = 0 ; i < MAX / 2 ; i ++ ) marked [ i ] = 0 ; for ( let i = 1 ; i <= ( Math . floor ( ( MAX ) / 2 ) ; i ++ ) { let j = ( i * ( i + 1 ) ) << 1 ; while ( j <= ( MAX / 2 ) ) { if ( [ j ] = true ; j = j + 2 * i + 1 ; } } let primes = new Array ( 2 ) ; for ( let i = 1 ; i <= Math . floor ( MAX / 2 ) ; i ++ ) { if ( marked [ i ] == false ) primes . push ( 2 * i + 1 ) ; } } function countRemovals ( n ) { if ( n == 1 ) return false ; let original_no = n ; let sum = 0 ; while ( n > 0 ) { let sum = parseInt ( Math . floor ( n / primes [ i ] ) ) ; let sum = Math . floor ( Math . floor ( n / primes [ i ] ) ) ; let left_leaf_nodes = Math . floor ( Math . floor ( n\n",
      "Ref : let MAX = 10000 ; let primes = [ ] ; function sieveSundaram ( ) { let marked = Array . from ( { length : MAX / 2 + 1 } , ( _ , i ) => 0 ) ; for ( let i = 1 ; i <= Math . floor ( ( Math . sqrt ( MAX ) - 1 ) / 2 ) ; i ++ ) { for ( let j = ( i * ( i + 1 ) ) << 1 ; j <= Math . floor ( MAX / 2 ) ; j = j + 2 * i + 1 ) { marked [ j ] = true ; } } primes . push ( 2 ) ; for ( let i = 1 ; i <= Math . floor ( MAX / 2 ) ; i ++ ) if ( marked [ i ] == false ) primes . push ( 2 * i + 1 ) ; } function isWasteful ( n ) { if ( n == 1 ) return false ; let original_no = n ; let sumDigits = 0 ; while ( original_no > 0 ) { sumDigits ++ ; original_no = Math . floor ( original_no / 10 ) ; } let pDigit = 0 , count_exp = 0 , p = 0 ; for ( let i = 0 ; primes [ i ] <= Math . floor ( n / 2 ) ; i ++ ) { while ( n % primes [ i ] == 0 ) { p = primes [ i ] ; n = Math . floor ( n / p ) ; count_exp ++ ; } while ( p > 0 ) { pDigit ++ ; p = Math . floor ( p / 10 ) ; } while ( count_exp > 1 ) { pDigit ++ ; count_exp = Math . floor ( count_exp / 10 ) ; } } if ( n != 1 ) { while ( n > 0 ) { pDigit ++ ; n = Math . floor ( n / 10 ) ; } } return ( pDigit > sumDigits ) ; } function Solve ( N ) { for ( let i = 1 ; i < N ; i ++ ) { if ( isWasteful ( i ) ) { document . write ( i + \" \" ) ; } } } sieveSundaram ( ) ; let N = 10 ; Solve ( N ) ;\n"
     ]
    }
   ],
   "execution_count": 9
  },
  {
   "metadata": {
    "ExecuteTime": {
     "end_time": "2025-05-27T01:09:06.865860Z",
     "start_time": "2025-05-27T01:09:02.567848Z"
    }
   },
   "cell_type": "code",
   "source": [
    "test_pairs = load_pairs(\n",
    "    \"data/generation/pair_data_tok_full/Python-Javascript/test-Python-Javascript-tok.py\",\n",
    "    \"data/generation/pair_data_tok_full/Python-Javascript/test-Python-Javascript-tok.js\"\n",
    ")\n",
    "\n",
    "test_ds = CodeTranslationDataset(test_pairs, tokenizer)\n",
    "test_loader = DataLoader(test_ds, batch_size=32, shuffle=True, num_workers=2, pin_memory=True)\n",
    "\n",
    "def evaluate_loss(model, dataloader, criterion, device):\n",
    "    model.eval()\n",
    "    total_loss = 0\n",
    "    total_samples = 0\n",
    "    with torch.no_grad(), autocast():\n",
    "        for batch in dataloader:\n",
    "            src = batch[\"input_ids\"].to(device)\n",
    "            trg = batch[\"labels\"].to(device)\n",
    "            lengths = batch[\"lengths\"].to(device)\n",
    "            output = model(src, trg, lengths)\n",
    "            output = output.reshape(-1, output.shape[-1])\n",
    "            trg_flat = trg[:, 1:].reshape(-1)\n",
    "            loss = criterion(output, trg_flat)\n",
    "            batch_size = src.size(0)\n",
    "            total_loss += loss.item() * batch_size\n",
    "            total_samples += batch_size\n",
    "    return total_loss / total_samples\n",
    "\n",
    "if __name__ == \"__main__\":\n",
    "    test_ds = CodeTranslationDataset(test_pairs, tokenizer)\n",
    "    test_loader = DataLoader(test_ds, batch_size=32, num_workers=2)\n",
    "    test_loss = evaluate_loss(rnn_model, test_loader, criterion, DEVICE)\n",
    "    print(f\"Test Loss: {test_loss:.4f}\")\n"
   ],
   "outputs": [
    {
     "name": "stderr",
     "output_type": "stream",
     "text": [
      "/tmp/ipykernel_109529/340026405.py:13: FutureWarning: `torch.cuda.amp.autocast(args...)` is deprecated. Please use `torch.amp.autocast('cuda', args...)` instead.\n",
      "  with torch.no_grad(), autocast():\n"
     ]
    },
    {
     "name": "stdout",
     "output_type": "stream",
     "text": [
      "Test Loss: 0.6699\n"
     ]
    }
   ],
   "execution_count": 10
  },
  {
   "metadata": {
    "ExecuteTime": {
     "end_time": "2025-05-27T01:09:06.888453Z",
     "start_time": "2025-05-27T01:09:06.884565Z"
    }
   },
   "cell_type": "code",
   "source": [
    "def translate(model, tokenizer, src_text, device, max_len=256):\n",
    "    model.eval()\n",
    "    src_ids = tokenizer.encode(src_text, max_len)\n",
    "    src_tensor = torch.tensor(src_ids).unsqueeze(0).to(device)\n",
    "    lengths = (src_tensor != tokenizer.pad_token_id).sum(dim=1)\n",
    "    with torch.no_grad(), autocast():\n",
    "        encoder_outputs, hidden = model.encoder(\n",
    "            pack_padded_sequence(model.embedding(src_tensor),\n",
    "                                 lengths.cpu(),\n",
    "                                 batch_first=True,\n",
    "                                 enforce_sorted=False)\n",
    "        )\n",
    "        encoder_outputs, _ = pad_packed_sequence(encoder_outputs, batch_first=True)\n",
    "        token = torch.tensor([[tokenizer.sos_token_id]], device=device)\n",
    "        generated = []\n",
    "        for _ in range(max_len):\n",
    "            embedded = model.embedding(token)\n",
    "            a = model.attn(hidden[-1], encoder_outputs).unsqueeze(1)\n",
    "            weighted = torch.bmm(a, encoder_outputs)\n",
    "            rnn_input = torch.cat((embedded, weighted), dim=2)\n",
    "            output, hidden = model.decoder(rnn_input, hidden)\n",
    "            prediction = model.fc_out(torch.cat((output, weighted), dim=2)).squeeze(1)\n",
    "            token = prediction.argmax(dim=1, keepdim=True)\n",
    "            if token.item() == tokenizer.eos_token_id:\n",
    "                break\n",
    "            generated.append(token.item())\n",
    "        return tokenizer.decode(generated)\n"
   ],
   "outputs": [],
   "execution_count": 11
  },
  {
   "metadata": {
    "ExecuteTime": {
     "end_time": "2025-05-27T01:26:14.188745Z",
     "start_time": "2025-05-27T01:09:06.931657Z"
    }
   },
   "cell_type": "code",
   "source": [
    "snippet = input(\"Enter Python snippet: \")\n",
    "pred_js = translate(rnn_model, tokenizer, snippet, DEVICE)\n",
    "print(pred_js)"
   ],
   "outputs": [
    {
     "ename": "KeyboardInterrupt",
     "evalue": "Interrupted by user",
     "output_type": "error",
     "traceback": [
      "\u001B[31m---------------------------------------------------------------------------\u001B[39m",
      "\u001B[31mKeyboardInterrupt\u001B[39m                         Traceback (most recent call last)",
      "\u001B[36mCell\u001B[39m\u001B[36m \u001B[39m\u001B[32mIn[12]\u001B[39m\u001B[32m, line 1\u001B[39m\n\u001B[32m----> \u001B[39m\u001B[32m1\u001B[39m snippet = \u001B[38;5;28;43minput\u001B[39;49m\u001B[43m(\u001B[49m\u001B[33;43m\"\u001B[39;49m\u001B[33;43mEnter Python snippet: \u001B[39;49m\u001B[33;43m\"\u001B[39;49m\u001B[43m)\u001B[49m\n\u001B[32m      2\u001B[39m pred_js = translate(rnn_model, tokenizer, snippet, DEVICE)\n\u001B[32m      3\u001B[39m \u001B[38;5;28mprint\u001B[39m(pred_js)\n",
      "\u001B[36mFile \u001B[39m\u001B[32m~/.virtualenvs/pytorch/lib/python3.12/site-packages/ipykernel/kernelbase.py:1282\u001B[39m, in \u001B[36mKernel.raw_input\u001B[39m\u001B[34m(self, prompt)\u001B[39m\n\u001B[32m   1280\u001B[39m     msg = \u001B[33m\"\u001B[39m\u001B[33mraw_input was called, but this frontend does not support input requests.\u001B[39m\u001B[33m\"\u001B[39m\n\u001B[32m   1281\u001B[39m     \u001B[38;5;28;01mraise\u001B[39;00m StdinNotImplementedError(msg)\n\u001B[32m-> \u001B[39m\u001B[32m1282\u001B[39m \u001B[38;5;28;01mreturn\u001B[39;00m \u001B[38;5;28;43mself\u001B[39;49m\u001B[43m.\u001B[49m\u001B[43m_input_request\u001B[49m\u001B[43m(\u001B[49m\n\u001B[32m   1283\u001B[39m \u001B[43m    \u001B[49m\u001B[38;5;28;43mstr\u001B[39;49m\u001B[43m(\u001B[49m\u001B[43mprompt\u001B[49m\u001B[43m)\u001B[49m\u001B[43m,\u001B[49m\n\u001B[32m   1284\u001B[39m \u001B[43m    \u001B[49m\u001B[38;5;28;43mself\u001B[39;49m\u001B[43m.\u001B[49m\u001B[43m_parent_ident\u001B[49m\u001B[43m[\u001B[49m\u001B[33;43m\"\u001B[39;49m\u001B[33;43mshell\u001B[39;49m\u001B[33;43m\"\u001B[39;49m\u001B[43m]\u001B[49m\u001B[43m,\u001B[49m\n\u001B[32m   1285\u001B[39m \u001B[43m    \u001B[49m\u001B[38;5;28;43mself\u001B[39;49m\u001B[43m.\u001B[49m\u001B[43mget_parent\u001B[49m\u001B[43m(\u001B[49m\u001B[33;43m\"\u001B[39;49m\u001B[33;43mshell\u001B[39;49m\u001B[33;43m\"\u001B[39;49m\u001B[43m)\u001B[49m\u001B[43m,\u001B[49m\n\u001B[32m   1286\u001B[39m \u001B[43m    \u001B[49m\u001B[43mpassword\u001B[49m\u001B[43m=\u001B[49m\u001B[38;5;28;43;01mFalse\u001B[39;49;00m\u001B[43m,\u001B[49m\n\u001B[32m   1287\u001B[39m \u001B[43m\u001B[49m\u001B[43m)\u001B[49m\n",
      "\u001B[36mFile \u001B[39m\u001B[32m~/.virtualenvs/pytorch/lib/python3.12/site-packages/ipykernel/kernelbase.py:1325\u001B[39m, in \u001B[36mKernel._input_request\u001B[39m\u001B[34m(self, prompt, ident, parent, password)\u001B[39m\n\u001B[32m   1322\u001B[39m \u001B[38;5;28;01mexcept\u001B[39;00m \u001B[38;5;167;01mKeyboardInterrupt\u001B[39;00m:\n\u001B[32m   1323\u001B[39m     \u001B[38;5;66;03m# re-raise KeyboardInterrupt, to truncate traceback\u001B[39;00m\n\u001B[32m   1324\u001B[39m     msg = \u001B[33m\"\u001B[39m\u001B[33mInterrupted by user\u001B[39m\u001B[33m\"\u001B[39m\n\u001B[32m-> \u001B[39m\u001B[32m1325\u001B[39m     \u001B[38;5;28;01mraise\u001B[39;00m \u001B[38;5;167;01mKeyboardInterrupt\u001B[39;00m(msg) \u001B[38;5;28;01mfrom\u001B[39;00m\u001B[38;5;250m \u001B[39m\u001B[38;5;28;01mNone\u001B[39;00m\n\u001B[32m   1326\u001B[39m \u001B[38;5;28;01mexcept\u001B[39;00m \u001B[38;5;167;01mException\u001B[39;00m:\n\u001B[32m   1327\u001B[39m     \u001B[38;5;28mself\u001B[39m.log.warning(\u001B[33m\"\u001B[39m\u001B[33mInvalid Message:\u001B[39m\u001B[33m\"\u001B[39m, exc_info=\u001B[38;5;28;01mTrue\u001B[39;00m)\n",
      "\u001B[31mKeyboardInterrupt\u001B[39m: Interrupted by user"
     ]
    }
   ],
   "execution_count": 12
  }
 ]
}
